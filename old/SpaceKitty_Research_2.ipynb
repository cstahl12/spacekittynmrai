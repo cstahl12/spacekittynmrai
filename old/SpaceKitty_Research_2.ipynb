{
 "cells": [
  {
   "cell_type": "markdown",
   "metadata": {},
   "source": [
    "## Load Environments"
   ]
  },
  {
   "cell_type": "code",
   "execution_count": 1,
   "metadata": {
    "collapsed": true
   },
   "outputs": [],
   "source": [
    "import warnings; warnings.filterwarnings('ignore')\n",
    "from __future__ import print_function\n",
    "import numpy as np\n",
    "import pandas as pd\n",
    "import matplotlib.pyplot as plt\n",
    "from math import log"
   ]
  },
  {
   "cell_type": "code",
   "execution_count": 2,
   "metadata": {
    "collapsed": true
   },
   "outputs": [],
   "source": [
    "from sklearn.preprocessing import LabelEncoder\n",
    "from sklearn.decomposition import PCA\n",
    "from sklearn.cluster import KMeans\n",
    "from sklearn.metrics import log_loss\n",
    "from sklearn.model_selection import GridSearchCV, LeaveOneGroupOut, ParameterGrid"
   ]
  },
  {
   "cell_type": "code",
   "execution_count": 3,
   "metadata": {},
   "outputs": [
    {
     "name": "stderr",
     "output_type": "stream",
     "text": [
      "Using TensorFlow backend.\n"
     ]
    }
   ],
   "source": [
    "from keras.models import Sequential\n",
    "from keras.layers import Dense, Dropout, Activation\n",
    "from keras.optimizers import SGD, Adam\n",
    "from keras.regularizers import l2 "
   ]
  },
  {
   "cell_type": "markdown",
   "metadata": {},
   "source": [
    "## Read in raw data sets, training, tournament (val, test, live)"
   ]
  },
  {
   "cell_type": "code",
   "execution_count": 4,
   "metadata": {
    "collapsed": true
   },
   "outputs": [],
   "source": [
    "def import_data_sets():\n",
    "    train = pd.read_csv('numerai_training_data.csv', index_col=0).drop('data_type', axis=1)\n",
    "    df = pd.read_csv('numerai_tournament_data.csv', index_col=0)\n",
    "    valid = df.loc[df['data_type']=='validation'].drop('data_type', axis=1)\n",
    "    test = df.loc[df['data_type']=='test'].drop('data_type', axis=1)\n",
    "    live = df.loc[df['data_type']=='live'].drop('data_type', axis=1)\n",
    "    return(train, valid, test, live)"
   ]
  },
  {
   "cell_type": "code",
   "execution_count": 5,
   "metadata": {
    "collapsed": true
   },
   "outputs": [],
   "source": [
    "train, valid, test, live = import_data_sets()"
   ]
  },
  {
   "cell_type": "code",
   "execution_count": 6,
   "metadata": {},
   "outputs": [
    {
     "data": {
      "text/html": [
       "<div>\n",
       "<style>\n",
       "    .dataframe thead tr:only-child th {\n",
       "        text-align: right;\n",
       "    }\n",
       "\n",
       "    .dataframe thead th {\n",
       "        text-align: left;\n",
       "    }\n",
       "\n",
       "    .dataframe tbody tr th {\n",
       "        vertical-align: top;\n",
       "    }\n",
       "</style>\n",
       "<table border=\"1\" class=\"dataframe\">\n",
       "  <thead>\n",
       "    <tr style=\"text-align: right;\">\n",
       "      <th></th>\n",
       "      <th>era</th>\n",
       "      <th>feature1</th>\n",
       "      <th>feature2</th>\n",
       "      <th>feature3</th>\n",
       "      <th>feature4</th>\n",
       "      <th>feature5</th>\n",
       "      <th>feature6</th>\n",
       "      <th>feature7</th>\n",
       "      <th>feature8</th>\n",
       "      <th>feature9</th>\n",
       "      <th>...</th>\n",
       "      <th>feature42</th>\n",
       "      <th>feature43</th>\n",
       "      <th>feature44</th>\n",
       "      <th>feature45</th>\n",
       "      <th>feature46</th>\n",
       "      <th>feature47</th>\n",
       "      <th>feature48</th>\n",
       "      <th>feature49</th>\n",
       "      <th>feature50</th>\n",
       "      <th>target</th>\n",
       "    </tr>\n",
       "    <tr>\n",
       "      <th>id</th>\n",
       "      <th></th>\n",
       "      <th></th>\n",
       "      <th></th>\n",
       "      <th></th>\n",
       "      <th></th>\n",
       "      <th></th>\n",
       "      <th></th>\n",
       "      <th></th>\n",
       "      <th></th>\n",
       "      <th></th>\n",
       "      <th></th>\n",
       "      <th></th>\n",
       "      <th></th>\n",
       "      <th></th>\n",
       "      <th></th>\n",
       "      <th></th>\n",
       "      <th></th>\n",
       "      <th></th>\n",
       "      <th></th>\n",
       "      <th></th>\n",
       "      <th></th>\n",
       "    </tr>\n",
       "  </thead>\n",
       "  <tbody>\n",
       "    <tr>\n",
       "      <th>n5e99b4326e6f463</th>\n",
       "      <td>era1</td>\n",
       "      <td>0.64488</td>\n",
       "      <td>0.56167</td>\n",
       "      <td>0.72591</td>\n",
       "      <td>0.52219</td>\n",
       "      <td>0.49311</td>\n",
       "      <td>0.51511</td>\n",
       "      <td>0.45514</td>\n",
       "      <td>0.51007</td>\n",
       "      <td>0.56489</td>\n",
       "      <td>...</td>\n",
       "      <td>0.67751</td>\n",
       "      <td>0.43340</td>\n",
       "      <td>0.67009</td>\n",
       "      <td>0.50086</td>\n",
       "      <td>0.51208</td>\n",
       "      <td>0.58674</td>\n",
       "      <td>0.54358</td>\n",
       "      <td>0.58602</td>\n",
       "      <td>0.51818</td>\n",
       "      <td>0</td>\n",
       "    </tr>\n",
       "    <tr>\n",
       "      <th>ncf8fb21f31e74d8</th>\n",
       "      <td>era1</td>\n",
       "      <td>0.44203</td>\n",
       "      <td>0.42957</td>\n",
       "      <td>0.51861</td>\n",
       "      <td>0.38445</td>\n",
       "      <td>0.62049</td>\n",
       "      <td>0.49168</td>\n",
       "      <td>0.46444</td>\n",
       "      <td>0.54369</td>\n",
       "      <td>0.52228</td>\n",
       "      <td>...</td>\n",
       "      <td>0.44734</td>\n",
       "      <td>0.47049</td>\n",
       "      <td>0.50980</td>\n",
       "      <td>0.57241</td>\n",
       "      <td>0.38253</td>\n",
       "      <td>0.52020</td>\n",
       "      <td>0.55781</td>\n",
       "      <td>0.55142</td>\n",
       "      <td>0.51869</td>\n",
       "      <td>1</td>\n",
       "    </tr>\n",
       "    <tr>\n",
       "      <th>n834cd2712b7e479</th>\n",
       "      <td>era1</td>\n",
       "      <td>0.36741</td>\n",
       "      <td>0.43188</td>\n",
       "      <td>0.52491</td>\n",
       "      <td>0.44392</td>\n",
       "      <td>0.52592</td>\n",
       "      <td>0.50014</td>\n",
       "      <td>0.32131</td>\n",
       "      <td>0.62067</td>\n",
       "      <td>0.49516</td>\n",
       "      <td>...</td>\n",
       "      <td>0.39102</td>\n",
       "      <td>0.71896</td>\n",
       "      <td>0.57458</td>\n",
       "      <td>0.50981</td>\n",
       "      <td>0.52993</td>\n",
       "      <td>0.53588</td>\n",
       "      <td>0.52843</td>\n",
       "      <td>0.50573</td>\n",
       "      <td>0.38799</td>\n",
       "      <td>1</td>\n",
       "    </tr>\n",
       "    <tr>\n",
       "      <th>nf49d82d23f17475</th>\n",
       "      <td>era1</td>\n",
       "      <td>0.80707</td>\n",
       "      <td>0.56341</td>\n",
       "      <td>0.52526</td>\n",
       "      <td>0.66020</td>\n",
       "      <td>0.34807</td>\n",
       "      <td>0.64373</td>\n",
       "      <td>0.68063</td>\n",
       "      <td>0.50475</td>\n",
       "      <td>0.64483</td>\n",
       "      <td>...</td>\n",
       "      <td>0.54288</td>\n",
       "      <td>0.39457</td>\n",
       "      <td>0.61531</td>\n",
       "      <td>0.30979</td>\n",
       "      <td>0.51926</td>\n",
       "      <td>0.44679</td>\n",
       "      <td>0.45668</td>\n",
       "      <td>0.66750</td>\n",
       "      <td>0.60906</td>\n",
       "      <td>1</td>\n",
       "    </tr>\n",
       "    <tr>\n",
       "      <th>n7586ede71dd04e7</th>\n",
       "      <td>era1</td>\n",
       "      <td>0.35577</td>\n",
       "      <td>0.57219</td>\n",
       "      <td>0.61766</td>\n",
       "      <td>0.42305</td>\n",
       "      <td>0.49314</td>\n",
       "      <td>0.49894</td>\n",
       "      <td>0.61066</td>\n",
       "      <td>0.40629</td>\n",
       "      <td>0.59973</td>\n",
       "      <td>...</td>\n",
       "      <td>0.48323</td>\n",
       "      <td>0.56839</td>\n",
       "      <td>0.59356</td>\n",
       "      <td>0.41716</td>\n",
       "      <td>0.51963</td>\n",
       "      <td>0.48346</td>\n",
       "      <td>0.52642</td>\n",
       "      <td>0.47278</td>\n",
       "      <td>0.43362</td>\n",
       "      <td>1</td>\n",
       "    </tr>\n",
       "  </tbody>\n",
       "</table>\n",
       "<p>5 rows × 52 columns</p>\n",
       "</div>"
      ],
      "text/plain": [
       "                   era  feature1  feature2  feature3  feature4  feature5  \\\n",
       "id                                                                         \n",
       "n5e99b4326e6f463  era1   0.64488   0.56167   0.72591   0.52219   0.49311   \n",
       "ncf8fb21f31e74d8  era1   0.44203   0.42957   0.51861   0.38445   0.62049   \n",
       "n834cd2712b7e479  era1   0.36741   0.43188   0.52491   0.44392   0.52592   \n",
       "nf49d82d23f17475  era1   0.80707   0.56341   0.52526   0.66020   0.34807   \n",
       "n7586ede71dd04e7  era1   0.35577   0.57219   0.61766   0.42305   0.49314   \n",
       "\n",
       "                  feature6  feature7  feature8  feature9   ...    feature42  \\\n",
       "id                                                         ...                \n",
       "n5e99b4326e6f463   0.51511   0.45514   0.51007   0.56489   ...      0.67751   \n",
       "ncf8fb21f31e74d8   0.49168   0.46444   0.54369   0.52228   ...      0.44734   \n",
       "n834cd2712b7e479   0.50014   0.32131   0.62067   0.49516   ...      0.39102   \n",
       "nf49d82d23f17475   0.64373   0.68063   0.50475   0.64483   ...      0.54288   \n",
       "n7586ede71dd04e7   0.49894   0.61066   0.40629   0.59973   ...      0.48323   \n",
       "\n",
       "                  feature43  feature44  feature45  feature46  feature47  \\\n",
       "id                                                                        \n",
       "n5e99b4326e6f463    0.43340    0.67009    0.50086    0.51208    0.58674   \n",
       "ncf8fb21f31e74d8    0.47049    0.50980    0.57241    0.38253    0.52020   \n",
       "n834cd2712b7e479    0.71896    0.57458    0.50981    0.52993    0.53588   \n",
       "nf49d82d23f17475    0.39457    0.61531    0.30979    0.51926    0.44679   \n",
       "n7586ede71dd04e7    0.56839    0.59356    0.41716    0.51963    0.48346   \n",
       "\n",
       "                  feature48  feature49  feature50  target  \n",
       "id                                                         \n",
       "n5e99b4326e6f463    0.54358    0.58602    0.51818       0  \n",
       "ncf8fb21f31e74d8    0.55781    0.55142    0.51869       1  \n",
       "n834cd2712b7e479    0.52843    0.50573    0.38799       1  \n",
       "nf49d82d23f17475    0.45668    0.66750    0.60906       1  \n",
       "n7586ede71dd04e7    0.52642    0.47278    0.43362       1  \n",
       "\n",
       "[5 rows x 52 columns]"
      ]
     },
     "execution_count": 6,
     "metadata": {},
     "output_type": "execute_result"
    }
   ],
   "source": [
    "train.head()"
   ]
  },
  {
   "cell_type": "code",
   "execution_count": 7,
   "metadata": {
    "collapsed": true
   },
   "outputs": [],
   "source": [
    "era1 = train.loc[train.era==\"era1\"]\n",
    "era2 = train.loc[train.era==\"era2\"]"
   ]
  },
  {
   "cell_type": "code",
   "execution_count": 15,
   "metadata": {},
   "outputs": [
    {
     "data": {
      "image/png": "[encoded data removed]",
      "text/plain": [
       "<matplotlib.figure.Figure at 0x7fd4dbefe7f0>"
      ]
     },
     "metadata": {},
     "output_type": "display_data"
    }
   ],
   "source": [
    "era1.feature4.hist()\n",
    "plt.show()"
   ]
  },
  {
   "cell_type": "code",
   "execution_count": 16,
   "metadata": {},
   "outputs": [
    {
     "data": {
      "image/png": "[encoded data removed]",
      "text/plain": [
       "<matplotlib.figure.Figure at 0x7fd4d9cc9400>"
      ]
     },
     "metadata": {},
     "output_type": "display_data"
    }
   ],
   "source": [
    "era2.feature4.hist()\n",
    "plt.show()"
   ]
  },
  {
   "cell_type": "code",
   "execution_count": 7,
   "metadata": {
    "collapsed": true
   },
   "outputs": [],
   "source": [
    "feature_cols = [f for f in train.columns if \"feature\" in f]"
   ]
  },
  {
   "cell_type": "code",
   "execution_count": 15,
   "metadata": {
    "collapsed": true
   },
   "outputs": [],
   "source": [
    "x_train = train[feature_cols]\n",
    "x_val = valid[feature_cols]\n",
    "x_test = test[feature_cols]\n",
    "x_live = live[feature_cols]\n",
    "y_train = train['target']\n",
    "y_val = valid['target']\n",
    "\n",
    "\n",
    "train_eras = train['era'].values\n",
    "val_eras = valid['era'].values"
   ]
  },
  {
   "cell_type": "code",
   "execution_count": 9,
   "metadata": {
    "collapsed": true,
    "scrolled": true
   },
   "outputs": [],
   "source": [
    "def score_keras_model(model, x_val, y_val, eras):    \n",
    "    \n",
    "    print('Logloss: ' + str(log_loss(y_val.values, mod.predict_proba(x_val_pca))))\n",
    "    \n",
    "    val_logo = LeaveOneGroupOut()\n",
    "    scores = []\n",
    "    fail = 0\n",
    "    guessing = -log(.5)\n",
    "    \n",
    "    for _, index in val_logo.split(x_val, y_val, eras):\n",
    "        score = log_loss(y_val.iloc[index].values, model.predict(x_val.values[index,:]))\n",
    "        print(score)\n",
    "        if(score > guessing):\n",
    "            fail += 1\n",
    "            \n",
    "    print(fail / 12.0)"
   ]
  },
  {
   "cell_type": "markdown",
   "metadata": {},
   "source": [
    "## KMeans Clustering"
   ]
  },
  {
   "cell_type": "code",
   "execution_count": 11,
   "metadata": {
    "collapsed": true
   },
   "outputs": [],
   "source": [
    "kmeans = KMeans(n_clusters=4, random_state=42).fit(x_train)"
   ]
  },
  {
   "cell_type": "code",
   "execution_count": 16,
   "metadata": {
    "collapsed": true
   },
   "outputs": [],
   "source": [
    "x_train['cluster'] = kmeans.predict(x_train)\n",
    "x_val['cluster'] = kmeans.predict(x_val)\n",
    "x_test['cluster'] = kmeans.predict(x_test)\n",
    "x_live['cluster'] = kmeans.predict(x_live)"
   ]
  },
  {
   "cell_type": "code",
   "execution_count": 20,
   "metadata": {},
   "outputs": [
    {
     "data": {
      "text/plain": [
       "3    49807\n",
       "1    27085\n",
       "2    17411\n",
       "0    14102\n",
       "Name: cluster, dtype: int64"
      ]
     },
     "execution_count": 20,
     "metadata": {},
     "output_type": "execute_result"
    }
   ],
   "source": [
    "x_train['cluster'].value_counts()"
   ]
  },
  {
   "cell_type": "code",
   "execution_count": 21,
   "metadata": {},
   "outputs": [
    {
     "data": {
      "text/plain": [
       "3    7363\n",
       "1    4510\n",
       "2    2645\n",
       "0    2168\n",
       "Name: cluster, dtype: int64"
      ]
     },
     "execution_count": 21,
     "metadata": {},
     "output_type": "execute_result"
    }
   ],
   "source": [
    "x_val['cluster'].value_counts()"
   ]
  },
  {
   "cell_type": "code",
   "execution_count": 22,
   "metadata": {},
   "outputs": [
    {
     "data": {
      "text/plain": [
       "3    13130\n",
       "1     6962\n",
       "2     4352\n",
       "0     3249\n",
       "Name: cluster, dtype: int64"
      ]
     },
     "execution_count": 22,
     "metadata": {},
     "output_type": "execute_result"
    }
   ],
   "source": [
    "x_test['cluster'].value_counts()"
   ]
  },
  {
   "cell_type": "code",
   "execution_count": 23,
   "metadata": {},
   "outputs": [
    {
     "data": {
      "text/plain": [
       "3    528\n",
       "1    332\n",
       "2    232\n",
       "0    188\n",
       "Name: cluster, dtype: int64"
      ]
     },
     "execution_count": 23,
     "metadata": {},
     "output_type": "execute_result"
    }
   ],
   "source": [
    "x_live['cluster'].value_counts()"
   ]
  },
  {
   "cell_type": "markdown",
   "metadata": {},
   "source": [
    "## Keras Model"
   ]
  },
  {
   "cell_type": "code",
   "execution_count": 25,
   "metadata": {
    "collapsed": true
   },
   "outputs": [],
   "source": [
    "def compile_nn(input_dim):\n",
    "    \n",
    "    model = Sequential()    \n",
    "    model.add(Dense(24, input_dim=input_dim, activation='relu', init='normal', W_regularizer=l2(0.001)))    \n",
    "    model.add(Dropout(0.3))\n",
    "    \n",
    "    for i in range(0,4):        \n",
    "        model.add(Dense(128, activation='relu', init='normal', W_regularizer=l2(0.001)))\n",
    "        model.add(Dropout(0.3))\n",
    "    \n",
    "    model.add(Dense(1, activation='sigmoid'))\n",
    "\n",
    "    model.compile(loss='binary_crossentropy',\n",
    "                  optimizer='rmsprop',\n",
    "                  metrics=['accuracy'])\n",
    "    \n",
    "    return model"
   ]
  },
  {
   "cell_type": "code",
   "execution_count": 26,
   "metadata": {
    "collapsed": true
   },
   "outputs": [],
   "source": [
    "nets = []\n",
    "nn1 = compile_nn(x_train.shape[1])\n",
    "nn2 = compile_nn(x_train.shape[1])\n",
    "nn3 = compile_nn(x_train.shape[1])\n",
    "nn4 = compile_nn(x_train.shape[1])\n",
    "nets.append(nn1)\n",
    "nets.append(nn2)\n",
    "nets.append(nn3)\n",
    "nets.append(nn4)"
   ]
  },
  {
   "cell_type": "code",
   "execution_count": 28,
   "metadata": {},
   "outputs": [
    {
     "name": "stdout",
     "output_type": "stream",
     "text": [
      "Train on 14102 samples, validate on 2168 samples\n",
      "Epoch 1/10\n",
      "14102/14102 [==============================] - 1s - loss: 0.7418 - acc: 0.5089 - val_loss: 0.7064 - val_acc: 0.5148\n",
      "Epoch 2/10\n",
      "14102/14102 [==============================] - 0s - loss: 0.6982 - acc: 0.5121 - val_loss: 0.6937 - val_acc: 0.5148\n",
      "Epoch 3/10\n",
      "14102/14102 [==============================] - 0s - loss: 0.6932 - acc: 0.5119 - val_loss: 0.6928 - val_acc: 0.5148\n",
      "Epoch 4/10\n",
      "14102/14102 [==============================] - 0s - loss: 0.6930 - acc: 0.5119 - val_loss: 0.6928 - val_acc: 0.5148\n",
      "Epoch 5/10\n",
      "14102/14102 [==============================] - 0s - loss: 0.6929 - acc: 0.5120 - val_loss: 0.6928 - val_acc: 0.5148\n",
      "Epoch 6/10\n",
      "14102/14102 [==============================] - 0s - loss: 0.6929 - acc: 0.5119 - val_loss: 0.6928 - val_acc: 0.5148\n",
      "Epoch 7/10\n",
      "14102/14102 [==============================] - 0s - loss: 0.6929 - acc: 0.5119 - val_loss: 0.6927 - val_acc: 0.5148\n",
      "Epoch 8/10\n",
      "14102/14102 [==============================] - 0s - loss: 0.6929 - acc: 0.5119 - val_loss: 0.6928 - val_acc: 0.5148\n",
      "Epoch 9/10\n",
      "14102/14102 [==============================] - 0s - loss: 0.6929 - acc: 0.5119 - val_loss: 0.6928 - val_acc: 0.5148\n",
      "Epoch 10/10\n",
      "14102/14102 [==============================] - 0s - loss: 0.6929 - acc: 0.5120 - val_loss: 0.6928 - val_acc: 0.5148\n",
      "Train on 27085 samples, validate on 4510 samples\n",
      "Epoch 1/10\n",
      "27085/27085 [==============================] - 0s - loss: 0.7222 - acc: 0.5106 - val_loss: 0.6947 - val_acc: 0.4956\n",
      "Epoch 2/10\n",
      "27085/27085 [==============================] - 0s - loss: 0.6932 - acc: 0.5085 - val_loss: 0.6937 - val_acc: 0.5044\n",
      "Epoch 3/10\n",
      "27085/27085 [==============================] - 0s - loss: 0.6931 - acc: 0.5108 - val_loss: 0.6932 - val_acc: 0.5044\n",
      "Epoch 4/10\n",
      "27085/27085 [==============================] - 0s - loss: 0.6930 - acc: 0.5112 - val_loss: 0.6932 - val_acc: 0.5044\n",
      "Epoch 5/10\n",
      "27085/27085 [==============================] - 0s - loss: 0.6931 - acc: 0.5100 - val_loss: 0.6932 - val_acc: 0.5044\n",
      "Epoch 6/10\n",
      "27085/27085 [==============================] - 0s - loss: 0.6930 - acc: 0.5114 - val_loss: 0.6932 - val_acc: 0.5044\n",
      "Epoch 7/10\n",
      "27085/27085 [==============================] - 0s - loss: 0.6930 - acc: 0.5114 - val_loss: 0.6932 - val_acc: 0.5044\n",
      "Epoch 8/10\n",
      "27085/27085 [==============================] - 0s - loss: 0.6930 - acc: 0.5114 - val_loss: 0.6932 - val_acc: 0.5044\n",
      "Epoch 9/10\n",
      "27085/27085 [==============================] - 0s - loss: 0.6930 - acc: 0.5114 - val_loss: 0.6932 - val_acc: 0.5044\n",
      "Epoch 10/10\n",
      "27085/27085 [==============================] - 0s - loss: 0.6930 - acc: 0.5114 - val_loss: 0.6933 - val_acc: 0.5044\n",
      "Train on 17411 samples, validate on 2645 samples\n",
      "Epoch 1/10\n",
      "17411/17411 [==============================] - 0s - loss: 0.7363 - acc: 0.4964 - val_loss: 0.7011 - val_acc: 0.5168\n",
      "Epoch 2/10\n",
      "17411/17411 [==============================] - 0s - loss: 0.6958 - acc: 0.5001 - val_loss: 0.6934 - val_acc: 0.5168\n",
      "Epoch 3/10\n",
      "17411/17411 [==============================] - 0s - loss: 0.6933 - acc: 0.4966 - val_loss: 0.6930 - val_acc: 0.5168\n",
      "Epoch 4/10\n",
      "17411/17411 [==============================] - 0s - loss: 0.6932 - acc: 0.4986 - val_loss: 0.6930 - val_acc: 0.5168\n",
      "Epoch 5/10\n",
      "17411/17411 [==============================] - 0s - loss: 0.6932 - acc: 0.4987 - val_loss: 0.6930 - val_acc: 0.5168\n",
      "Epoch 6/10\n",
      "17411/17411 [==============================] - 0s - loss: 0.6932 - acc: 0.4995 - val_loss: 0.6932 - val_acc: 0.4832\n",
      "Epoch 7/10\n",
      "17411/17411 [==============================] - 0s - loss: 0.6932 - acc: 0.4988 - val_loss: 0.6930 - val_acc: 0.5168\n",
      "Epoch 8/10\n",
      "17411/17411 [==============================] - 0s - loss: 0.6932 - acc: 0.5012 - val_loss: 0.6930 - val_acc: 0.5168\n",
      "Epoch 9/10\n",
      "17411/17411 [==============================] - 0s - loss: 0.6932 - acc: 0.5003 - val_loss: 0.6930 - val_acc: 0.5168\n",
      "Epoch 10/10\n",
      "17411/17411 [==============================] - 0s - loss: 0.6932 - acc: 0.5008 - val_loss: 0.6932 - val_acc: 0.5168\n",
      "Train on 49807 samples, validate on 7363 samples\n",
      "Epoch 1/10\n",
      "49807/49807 [==============================] - 1s - loss: 0.7092 - acc: 0.4955 - val_loss: 0.6932 - val_acc: 0.5051\n",
      "Epoch 2/10\n",
      "49807/49807 [==============================] - 1s - loss: 0.6932 - acc: 0.4982 - val_loss: 0.6932 - val_acc: 0.4949\n",
      "Epoch 3/10\n",
      "49807/49807 [==============================] - 1s - loss: 0.6932 - acc: 0.4983 - val_loss: 0.6931 - val_acc: 0.5051\n",
      "Epoch 4/10\n",
      "49807/49807 [==============================] - 1s - loss: 0.6932 - acc: 0.4972 - val_loss: 0.6931 - val_acc: 0.5051\n",
      "Epoch 5/10\n",
      "49807/49807 [==============================] - 1s - loss: 0.6932 - acc: 0.4999 - val_loss: 0.6932 - val_acc: 0.4949\n",
      "Epoch 6/10\n",
      "49807/49807 [==============================] - 1s - loss: 0.6932 - acc: 0.4951 - val_loss: 0.6932 - val_acc: 0.4949\n",
      "Epoch 7/10\n",
      "49807/49807 [==============================] - 1s - loss: 0.6932 - acc: 0.4964 - val_loss: 0.6932 - val_acc: 0.4949\n",
      "Epoch 8/10\n",
      "49807/49807 [==============================] - 1s - loss: 0.6932 - acc: 0.5017 - val_loss: 0.6931 - val_acc: 0.5051\n",
      "Epoch 9/10\n",
      "49807/49807 [==============================] - 1s - loss: 0.6932 - acc: 0.4965 - val_loss: 0.6931 - val_acc: 0.5051\n",
      "Epoch 10/10\n",
      "49807/49807 [==============================] - 1s - loss: 0.6932 - acc: 0.5006 - val_loss: 0.6931 - val_acc: 0.5051\n"
     ]
    }
   ],
   "source": [
    "fits = []\n",
    "for i in range(0,4):\n",
    "    nn = nets[i]\n",
    "    \n",
    "    xt = x_train.loc[x_train['cluster']==i].values\n",
    "    yt = y_train.loc[x_train['cluster']==i].values\n",
    "    xv = x_val.loc[x_val['cluster']==i].values\n",
    "    yv = y_val.loc[x_val['cluster']==i].values\n",
    "    \n",
    "    nn.fit(xt, yt, validation_data=(xv, yv),\n",
    "           nb_epoch=10, batch_size=256, verbose=1)\n",
    "    \n",
    "    fits.append(nn)"
   ]
  },
  {
   "cell_type": "code",
   "execution_count": 43,
   "metadata": {},
   "outputs": [
    {
     "ename": "KeyError",
     "evalue": "'pred'",
     "output_type": "error",
     "traceback": [
      "\u001b[0;31m---------------------------------------------------------------------------\u001b[0m",
      "\u001b[0;31mKeyError\u001b[0m                                  Traceback (most recent call last)",
      "\u001b[0;32m/usr/local/lib/python3.5/site-packages/pandas/core/indexes/base.py\u001b[0m in \u001b[0;36mget_loc\u001b[0;34m(self, key, method, tolerance)\u001b[0m\n\u001b[1;32m   2441\u001b[0m             \u001b[0;32mtry\u001b[0m\u001b[0;34m:\u001b[0m\u001b[0;34m\u001b[0m\u001b[0m\n\u001b[0;32m-> 2442\u001b[0;31m                 \u001b[0;32mreturn\u001b[0m \u001b[0mself\u001b[0m\u001b[0;34m.\u001b[0m\u001b[0m_engine\u001b[0m\u001b[0;34m.\u001b[0m\u001b[0mget_loc\u001b[0m\u001b[0;34m(\u001b[0m\u001b[0mkey\u001b[0m\u001b[0;34m)\u001b[0m\u001b[0;34m\u001b[0m\u001b[0m\n\u001b[0m\u001b[1;32m   2443\u001b[0m             \u001b[0;32mexcept\u001b[0m \u001b[0mKeyError\u001b[0m\u001b[0;34m:\u001b[0m\u001b[0;34m\u001b[0m\u001b[0m\n",
      "\u001b[0;32mpandas/_libs/index.pyx\u001b[0m in \u001b[0;36mpandas._libs.index.IndexEngine.get_loc (pandas/_libs/index.c:5280)\u001b[0;34m()\u001b[0m\n",
      "\u001b[0;32mpandas/_libs/index.pyx\u001b[0m in \u001b[0;36mpandas._libs.index.IndexEngine.get_loc (pandas/_libs/index.c:5126)\u001b[0;34m()\u001b[0m\n",
      "\u001b[0;32mpandas/_libs/hashtable_class_helper.pxi\u001b[0m in \u001b[0;36mpandas._libs.hashtable.PyObjectHashTable.get_item (pandas/_libs/hashtable.c:20523)\u001b[0;34m()\u001b[0m\n",
      "\u001b[0;32mpandas/_libs/hashtable_class_helper.pxi\u001b[0m in \u001b[0;36mpandas._libs.hashtable.PyObjectHashTable.get_item (pandas/_libs/hashtable.c:20477)\u001b[0;34m()\u001b[0m\n",
      "\u001b[0;31mKeyError\u001b[0m: 'pred'",
      "\nDuring handling of the above exception, another exception occurred:\n",
      "\u001b[0;31mKeyError\u001b[0m                                  Traceback (most recent call last)",
      "\u001b[0;32m<ipython-input-43-6fdbe6cdbaf3>\u001b[0m in \u001b[0;36m<module>\u001b[0;34m()\u001b[0m\n\u001b[1;32m      1\u001b[0m \u001b[0mdf_pred\u001b[0m \u001b[0;34m=\u001b[0m \u001b[0mx_val\u001b[0m\u001b[0;34m\u001b[0m\u001b[0m\n\u001b[0;32m----> 2\u001b[0;31m \u001b[0mdf_pred\u001b[0m\u001b[0;34m[\u001b[0m\u001b[0;34m'pred'\u001b[0m\u001b[0;34m]\u001b[0m \u001b[0;34m==\u001b[0m \u001b[0;36m0.5\u001b[0m\u001b[0;34m\u001b[0m\u001b[0m\n\u001b[0m\u001b[1;32m      3\u001b[0m \u001b[0;34m\u001b[0m\u001b[0m\n\u001b[1;32m      4\u001b[0m \u001b[0;32mfor\u001b[0m \u001b[0mi\u001b[0m \u001b[0;32min\u001b[0m \u001b[0mrange\u001b[0m\u001b[0;34m(\u001b[0m\u001b[0;36m0\u001b[0m\u001b[0;34m,\u001b[0m\u001b[0;36m4\u001b[0m\u001b[0;34m)\u001b[0m\u001b[0;34m:\u001b[0m\u001b[0;34m\u001b[0m\u001b[0m\n\u001b[1;32m      5\u001b[0m     \u001b[0mnn\u001b[0m \u001b[0;34m=\u001b[0m \u001b[0mnets\u001b[0m\u001b[0;34m[\u001b[0m\u001b[0mi\u001b[0m\u001b[0;34m]\u001b[0m\u001b[0;34m\u001b[0m\u001b[0m\n",
      "\u001b[0;32m/usr/local/lib/python3.5/site-packages/pandas/core/frame.py\u001b[0m in \u001b[0;36m__getitem__\u001b[0;34m(self, key)\u001b[0m\n\u001b[1;32m   1962\u001b[0m             \u001b[0;32mreturn\u001b[0m \u001b[0mself\u001b[0m\u001b[0;34m.\u001b[0m\u001b[0m_getitem_multilevel\u001b[0m\u001b[0;34m(\u001b[0m\u001b[0mkey\u001b[0m\u001b[0;34m)\u001b[0m\u001b[0;34m\u001b[0m\u001b[0m\n\u001b[1;32m   1963\u001b[0m         \u001b[0;32melse\u001b[0m\u001b[0;34m:\u001b[0m\u001b[0;34m\u001b[0m\u001b[0m\n\u001b[0;32m-> 1964\u001b[0;31m             \u001b[0;32mreturn\u001b[0m \u001b[0mself\u001b[0m\u001b[0;34m.\u001b[0m\u001b[0m_getitem_column\u001b[0m\u001b[0;34m(\u001b[0m\u001b[0mkey\u001b[0m\u001b[0;34m)\u001b[0m\u001b[0;34m\u001b[0m\u001b[0m\n\u001b[0m\u001b[1;32m   1965\u001b[0m \u001b[0;34m\u001b[0m\u001b[0m\n\u001b[1;32m   1966\u001b[0m     \u001b[0;32mdef\u001b[0m \u001b[0m_getitem_column\u001b[0m\u001b[0;34m(\u001b[0m\u001b[0mself\u001b[0m\u001b[0;34m,\u001b[0m \u001b[0mkey\u001b[0m\u001b[0;34m)\u001b[0m\u001b[0;34m:\u001b[0m\u001b[0;34m\u001b[0m\u001b[0m\n",
      "\u001b[0;32m/usr/local/lib/python3.5/site-packages/pandas/core/frame.py\u001b[0m in \u001b[0;36m_getitem_column\u001b[0;34m(self, key)\u001b[0m\n\u001b[1;32m   1969\u001b[0m         \u001b[0;31m# get column\u001b[0m\u001b[0;34m\u001b[0m\u001b[0;34m\u001b[0m\u001b[0m\n\u001b[1;32m   1970\u001b[0m         \u001b[0;32mif\u001b[0m \u001b[0mself\u001b[0m\u001b[0;34m.\u001b[0m\u001b[0mcolumns\u001b[0m\u001b[0;34m.\u001b[0m\u001b[0mis_unique\u001b[0m\u001b[0;34m:\u001b[0m\u001b[0;34m\u001b[0m\u001b[0m\n\u001b[0;32m-> 1971\u001b[0;31m             \u001b[0;32mreturn\u001b[0m \u001b[0mself\u001b[0m\u001b[0;34m.\u001b[0m\u001b[0m_get_item_cache\u001b[0m\u001b[0;34m(\u001b[0m\u001b[0mkey\u001b[0m\u001b[0;34m)\u001b[0m\u001b[0;34m\u001b[0m\u001b[0m\n\u001b[0m\u001b[1;32m   1972\u001b[0m \u001b[0;34m\u001b[0m\u001b[0m\n\u001b[1;32m   1973\u001b[0m         \u001b[0;31m# duplicate columns & possible reduce dimensionality\u001b[0m\u001b[0;34m\u001b[0m\u001b[0;34m\u001b[0m\u001b[0m\n",
      "\u001b[0;32m/usr/local/lib/python3.5/site-packages/pandas/core/generic.py\u001b[0m in \u001b[0;36m_get_item_cache\u001b[0;34m(self, item)\u001b[0m\n\u001b[1;32m   1643\u001b[0m         \u001b[0mres\u001b[0m \u001b[0;34m=\u001b[0m \u001b[0mcache\u001b[0m\u001b[0;34m.\u001b[0m\u001b[0mget\u001b[0m\u001b[0;34m(\u001b[0m\u001b[0mitem\u001b[0m\u001b[0;34m)\u001b[0m\u001b[0;34m\u001b[0m\u001b[0m\n\u001b[1;32m   1644\u001b[0m         \u001b[0;32mif\u001b[0m \u001b[0mres\u001b[0m \u001b[0;32mis\u001b[0m \u001b[0;32mNone\u001b[0m\u001b[0;34m:\u001b[0m\u001b[0;34m\u001b[0m\u001b[0m\n\u001b[0;32m-> 1645\u001b[0;31m             \u001b[0mvalues\u001b[0m \u001b[0;34m=\u001b[0m \u001b[0mself\u001b[0m\u001b[0;34m.\u001b[0m\u001b[0m_data\u001b[0m\u001b[0;34m.\u001b[0m\u001b[0mget\u001b[0m\u001b[0;34m(\u001b[0m\u001b[0mitem\u001b[0m\u001b[0;34m)\u001b[0m\u001b[0;34m\u001b[0m\u001b[0m\n\u001b[0m\u001b[1;32m   1646\u001b[0m             \u001b[0mres\u001b[0m \u001b[0;34m=\u001b[0m \u001b[0mself\u001b[0m\u001b[0;34m.\u001b[0m\u001b[0m_box_item_values\u001b[0m\u001b[0;34m(\u001b[0m\u001b[0mitem\u001b[0m\u001b[0;34m,\u001b[0m \u001b[0mvalues\u001b[0m\u001b[0;34m)\u001b[0m\u001b[0;34m\u001b[0m\u001b[0m\n\u001b[1;32m   1647\u001b[0m             \u001b[0mcache\u001b[0m\u001b[0;34m[\u001b[0m\u001b[0mitem\u001b[0m\u001b[0;34m]\u001b[0m \u001b[0;34m=\u001b[0m \u001b[0mres\u001b[0m\u001b[0;34m\u001b[0m\u001b[0m\n",
      "\u001b[0;32m/usr/local/lib/python3.5/site-packages/pandas/core/internals.py\u001b[0m in \u001b[0;36mget\u001b[0;34m(self, item, fastpath)\u001b[0m\n\u001b[1;32m   3588\u001b[0m \u001b[0;34m\u001b[0m\u001b[0m\n\u001b[1;32m   3589\u001b[0m             \u001b[0;32mif\u001b[0m \u001b[0;32mnot\u001b[0m \u001b[0misnull\u001b[0m\u001b[0;34m(\u001b[0m\u001b[0mitem\u001b[0m\u001b[0;34m)\u001b[0m\u001b[0;34m:\u001b[0m\u001b[0;34m\u001b[0m\u001b[0m\n\u001b[0;32m-> 3590\u001b[0;31m                 \u001b[0mloc\u001b[0m \u001b[0;34m=\u001b[0m \u001b[0mself\u001b[0m\u001b[0;34m.\u001b[0m\u001b[0mitems\u001b[0m\u001b[0;34m.\u001b[0m\u001b[0mget_loc\u001b[0m\u001b[0;34m(\u001b[0m\u001b[0mitem\u001b[0m\u001b[0;34m)\u001b[0m\u001b[0;34m\u001b[0m\u001b[0m\n\u001b[0m\u001b[1;32m   3591\u001b[0m             \u001b[0;32melse\u001b[0m\u001b[0;34m:\u001b[0m\u001b[0;34m\u001b[0m\u001b[0m\n\u001b[1;32m   3592\u001b[0m                 \u001b[0mindexer\u001b[0m \u001b[0;34m=\u001b[0m \u001b[0mnp\u001b[0m\u001b[0;34m.\u001b[0m\u001b[0marange\u001b[0m\u001b[0;34m(\u001b[0m\u001b[0mlen\u001b[0m\u001b[0;34m(\u001b[0m\u001b[0mself\u001b[0m\u001b[0;34m.\u001b[0m\u001b[0mitems\u001b[0m\u001b[0;34m)\u001b[0m\u001b[0;34m)\u001b[0m\u001b[0;34m[\u001b[0m\u001b[0misnull\u001b[0m\u001b[0;34m(\u001b[0m\u001b[0mself\u001b[0m\u001b[0;34m.\u001b[0m\u001b[0mitems\u001b[0m\u001b[0;34m)\u001b[0m\u001b[0;34m]\u001b[0m\u001b[0;34m\u001b[0m\u001b[0m\n",
      "\u001b[0;32m/usr/local/lib/python3.5/site-packages/pandas/core/indexes/base.py\u001b[0m in \u001b[0;36mget_loc\u001b[0;34m(self, key, method, tolerance)\u001b[0m\n\u001b[1;32m   2442\u001b[0m                 \u001b[0;32mreturn\u001b[0m \u001b[0mself\u001b[0m\u001b[0;34m.\u001b[0m\u001b[0m_engine\u001b[0m\u001b[0;34m.\u001b[0m\u001b[0mget_loc\u001b[0m\u001b[0;34m(\u001b[0m\u001b[0mkey\u001b[0m\u001b[0;34m)\u001b[0m\u001b[0;34m\u001b[0m\u001b[0m\n\u001b[1;32m   2443\u001b[0m             \u001b[0;32mexcept\u001b[0m \u001b[0mKeyError\u001b[0m\u001b[0;34m:\u001b[0m\u001b[0;34m\u001b[0m\u001b[0m\n\u001b[0;32m-> 2444\u001b[0;31m                 \u001b[0;32mreturn\u001b[0m \u001b[0mself\u001b[0m\u001b[0;34m.\u001b[0m\u001b[0m_engine\u001b[0m\u001b[0;34m.\u001b[0m\u001b[0mget_loc\u001b[0m\u001b[0;34m(\u001b[0m\u001b[0mself\u001b[0m\u001b[0;34m.\u001b[0m\u001b[0m_maybe_cast_indexer\u001b[0m\u001b[0;34m(\u001b[0m\u001b[0mkey\u001b[0m\u001b[0;34m)\u001b[0m\u001b[0;34m)\u001b[0m\u001b[0;34m\u001b[0m\u001b[0m\n\u001b[0m\u001b[1;32m   2445\u001b[0m \u001b[0;34m\u001b[0m\u001b[0m\n\u001b[1;32m   2446\u001b[0m         \u001b[0mindexer\u001b[0m \u001b[0;34m=\u001b[0m \u001b[0mself\u001b[0m\u001b[0;34m.\u001b[0m\u001b[0mget_indexer\u001b[0m\u001b[0;34m(\u001b[0m\u001b[0;34m[\u001b[0m\u001b[0mkey\u001b[0m\u001b[0;34m]\u001b[0m\u001b[0;34m,\u001b[0m \u001b[0mmethod\u001b[0m\u001b[0;34m=\u001b[0m\u001b[0mmethod\u001b[0m\u001b[0;34m,\u001b[0m \u001b[0mtolerance\u001b[0m\u001b[0;34m=\u001b[0m\u001b[0mtolerance\u001b[0m\u001b[0;34m)\u001b[0m\u001b[0;34m\u001b[0m\u001b[0m\n",
      "\u001b[0;32mpandas/_libs/index.pyx\u001b[0m in \u001b[0;36mpandas._libs.index.IndexEngine.get_loc (pandas/_libs/index.c:5280)\u001b[0;34m()\u001b[0m\n",
      "\u001b[0;32mpandas/_libs/index.pyx\u001b[0m in \u001b[0;36mpandas._libs.index.IndexEngine.get_loc (pandas/_libs/index.c:5126)\u001b[0;34m()\u001b[0m\n",
      "\u001b[0;32mpandas/_libs/hashtable_class_helper.pxi\u001b[0m in \u001b[0;36mpandas._libs.hashtable.PyObjectHashTable.get_item (pandas/_libs/hashtable.c:20523)\u001b[0;34m()\u001b[0m\n",
      "\u001b[0;32mpandas/_libs/hashtable_class_helper.pxi\u001b[0m in \u001b[0;36mpandas._libs.hashtable.PyObjectHashTable.get_item (pandas/_libs/hashtable.c:20477)\u001b[0;34m()\u001b[0m\n",
      "\u001b[0;31mKeyError\u001b[0m: 'pred'"
     ]
    }
   ],
   "source": [
    "df_pred = x_val\n",
    "\n",
    "for i in range(0,4):\n",
    "    nn = nets[i]\n",
    "    p = nn.predict(x_val.loc[x_val['cluster']==i].values)\n",
    "    df_pred['pred'].loc[x_val['cluster']==i] = p\n",
    "    \n",
    "df_pred.head()    "
   ]
  },
  {
   "cell_type": "code",
   "execution_count": 53,
   "metadata": {},
   "outputs": [
    {
     "name": "stdout",
     "output_type": "stream",
     "text": [
      "Logloss: 0.693223366556\n",
      "0.693122177049\n",
      "0.693196973545\n",
      "0.692975956408\n",
      "0.693058342165\n",
      "0.693136847739\n",
      "0.692947238747\n",
      "0.693346140927\n",
      "0.693254197692\n",
      "0.693596618931\n",
      "0.693635535614\n",
      "0.693149273616\n",
      "0.693251757821\n",
      "0.583333333333\n"
     ]
    }
   ],
   "source": [
    "score_keras_model(nn, x_val, y_val, val_eras)"
   ]
  },
  {
   "cell_type": "markdown",
   "metadata": {},
   "source": [
    "## Submission"
   ]
  },
  {
   "cell_type": "code",
   "execution_count": 39,
   "metadata": {
    "collapsed": true
   },
   "outputs": [],
   "source": [
    "to_pred = pd.concat([x_val,test,live])\n",
    "\n",
    "#Keras model\n",
    "nn_preds = pd.Series(nn.predict(to_pred.values)[:,0])\n",
    "\n",
    "#to_vote = pd.concat([rf_1_preds, rf_2_preds], axis=1)\n",
    "\n",
    "# Ensemble Tree\n",
    "#ens_preds = pd.Series(tree.predict_proba(to_vote.values)[:,1])\n",
    "#ens_preds = to_vote.mean(axis=1)\n",
    "ens_preds = nn_preds"
   ]
  },
  {
   "cell_type": "code",
   "execution_count": 40,
   "metadata": {},
   "outputs": [
    {
     "data": {
      "text/plain": [
       "count    45630.000000\n",
       "mean         0.503124\n",
       "std          0.004284\n",
       "min          0.498657\n",
       "25%          0.499918\n",
       "50%          0.502135\n",
       "75%          0.505005\n",
       "max          0.534094\n",
       "dtype: float64"
      ]
     },
     "execution_count": 40,
     "metadata": {},
     "output_type": "execute_result"
    }
   ],
   "source": [
    "ens_preds.describe()"
   ]
  },
  {
   "cell_type": "code",
   "execution_count": 33,
   "metadata": {},
   "outputs": [
    {
     "data": {
      "text/html": [
       "<div>\n",
       "<table border=\"1\" class=\"dataframe\">\n",
       "  <thead>\n",
       "    <tr style=\"text-align: right;\">\n",
       "      <th></th>\n",
       "      <th>id</th>\n",
       "      <th>probability</th>\n",
       "    </tr>\n",
       "  </thead>\n",
       "  <tbody>\n",
       "    <tr>\n",
       "      <th>0</th>\n",
       "      <td>96144</td>\n",
       "      <td>0.517328</td>\n",
       "    </tr>\n",
       "    <tr>\n",
       "      <th>1</th>\n",
       "      <td>17982</td>\n",
       "      <td>0.523370</td>\n",
       "    </tr>\n",
       "    <tr>\n",
       "      <th>2</th>\n",
       "      <td>96161</td>\n",
       "      <td>0.486145</td>\n",
       "    </tr>\n",
       "    <tr>\n",
       "      <th>3</th>\n",
       "      <td>53895</td>\n",
       "      <td>0.494751</td>\n",
       "    </tr>\n",
       "    <tr>\n",
       "      <th>4</th>\n",
       "      <td>7267</td>\n",
       "      <td>0.510167</td>\n",
       "    </tr>\n",
       "  </tbody>\n",
       "</table>\n",
       "</div>"
      ],
      "text/plain": [
       "      id  probability\n",
       "0  96144     0.517328\n",
       "1  17982     0.523370\n",
       "2  96161     0.486145\n",
       "3  53895     0.494751\n",
       "4   7267     0.510167"
      ]
     },
     "execution_count": 33,
     "metadata": {},
     "output_type": "execute_result"
    }
   ],
   "source": [
    "sub = pd.concat([pd.Series(to_pred.index), pd.Series(ens_preds)], axis=1)\n",
    "sub.columns = ['id', 'probability']\n",
    "sub.head()"
   ]
  },
  {
   "cell_type": "code",
   "execution_count": 34,
   "metadata": {
    "collapsed": true
   },
   "outputs": [],
   "source": [
    "sub.to_csv('sub_62_1_rf.csv', index=False)"
   ]
  },
  {
   "cell_type": "code",
   "execution_count": null,
   "metadata": {
    "collapsed": true
   },
   "outputs": [],
   "source": []
  }
 ],
 "metadata": {
  "kernelspec": {
   "display_name": "Python 3",
   "language": "python",
   "name": "python3"
  },
  "language_info": {
   "codemirror_mode": {
    "name": "ipython",
    "version": 3
   },
   "file_extension": ".py",
   "mimetype": "text/x-python",
   "name": "python",
   "nbconvert_exporter": "python",
   "pygments_lexer": "ipython3",
   "version": "3.5.3"
  }
 },
 "nbformat": 4,
 "nbformat_minor": 2
}
