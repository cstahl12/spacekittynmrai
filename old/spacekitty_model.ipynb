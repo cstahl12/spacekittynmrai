{
 "cells": [
  {
   "cell_type": "markdown",
   "metadata": {},
   "source": [
    "## Load Environments"
   ]
  },
  {
   "cell_type": "code",
   "execution_count": 1,
   "metadata": {
    "collapsed": true
   },
   "outputs": [],
   "source": [
    "%matplotlib inline\n",
    "\n",
    "from __future__ import print_function\n",
    "from __future__ import division\n",
    "import warnings; warnings.filterwarnings('ignore')\n",
    "\n",
    "import time\n",
    "import random\n",
    "from math import log\n",
    "\n",
    "import numpy as np\n",
    "import pandas as pd\n",
    "import seaborn as sns\n",
    "import matplotlib.pyplot as plt\n",
    "\n",
    "sns.set_style('white')\n",
    "sns.set_context('notebook', font_scale=2)\n",
    "random.seed(125)\n",
    "np.random.seed(137)"
   ]
  },
  {
   "cell_type": "code",
   "execution_count": 2,
   "metadata": {
    "collapsed": true
   },
   "outputs": [],
   "source": [
    "from sklearn.linear_model import LogisticRegression\n",
    "from sklearn.preprocessing import LabelEncoder, MinMaxScaler\n",
    "from sklearn.decomposition import PCA\n",
    "from sklearn.metrics import log_loss\n",
    "from sklearn.model_selection import GridSearchCV, LeaveOneGroupOut, ParameterGrid\n",
    "from sklearn.manifold import TSNE\n",
    "from sklearn.pipeline import make_pipeline, Pipeline"
   ]
  },
  {
   "cell_type": "markdown",
   "metadata": {},
   "source": [
    "## Read in raw data sets, training, tournament (val, test, live)"
   ]
  },
  {
   "cell_type": "code",
   "execution_count": 3,
   "metadata": {},
   "outputs": [
    {
     "name": "stdout",
     "output_type": "stream",
     "text": [
      "numerai_tournament_data.csv  numerai_training_data.csv\r\n"
     ]
    }
   ],
   "source": [
    "!ls /input"
   ]
  },
  {
   "cell_type": "code",
   "execution_count": 4,
   "metadata": {
    "collapsed": true
   },
   "outputs": [],
   "source": [
    "def import_data_sets():\n",
    "    train = pd.read_csv('/input/numerai_training_data.csv', index_col=0).drop('data_type', axis=1)\n",
    "    df = pd.read_csv('/input/numerai_tournament_data.csv', index_col=0)\n",
    "    valid = df.loc[df['data_type']=='validation'].drop('data_type', axis=1)\n",
    "    test = df.loc[df['data_type']=='test'].drop('data_type', axis=1)\n",
    "    live = df.loc[df['data_type']=='live'].drop('data_type', axis=1)\n",
    "    return(train, valid, test, live)"
   ]
  },
  {
   "cell_type": "code",
   "execution_count": 5,
   "metadata": {
    "collapsed": true
   },
   "outputs": [],
   "source": [
    "train, valid, test, live = import_data_sets()"
   ]
  },
  {
   "cell_type": "code",
   "execution_count": 6,
   "metadata": {
    "collapsed": true
   },
   "outputs": [],
   "source": [
    "feature_cols = [f for f in train.columns if \"feature\" in f]"
   ]
  },
  {
   "cell_type": "code",
   "execution_count": 7,
   "metadata": {
    "collapsed": true
   },
   "outputs": [],
   "source": [
    "x_train = train[feature_cols]\n",
    "x_val = valid[feature_cols]\n",
    "x_test = test[feature_cols]\n",
    "x_live = live[feature_cols]\n",
    "y_train = train['target']\n",
    "y_val = valid['target']\n",
    "\n",
    "\n",
    "train_eras = train['era'].values\n",
    "val_eras = valid['era'].values"
   ]
  },
  {
   "cell_type": "code",
   "execution_count": 8,
   "metadata": {
    "collapsed": true,
    "scrolled": true
   },
   "outputs": [],
   "source": [
    "def score_model(model, x_val, y_val, eras):    \n",
    "    \n",
    "    print('Logloss: ' + str(log_loss(y_val.values, model.predict_proba(x_val.values))))\n",
    "    \n",
    "    val_logo = LeaveOneGroupOut()\n",
    "    scores = []\n",
    "    fail = 0\n",
    "    guessing = -log(.5)\n",
    "    \n",
    "    print('Guessing gets you: ' + str(guessing))\n",
    "    \n",
    "    for _, index in val_logo.split(x_val, y_val, eras):\n",
    "        \n",
    "        score = log_loss(y_val.iloc[index].values, model.predict_proba(x_val.iloc[index].values))\n",
    "        \n",
    "        print(score)\n",
    "        \n",
    "        if(score > guessing):\n",
    "            fail += 1\n",
    "            \n",
    "    print(fail / 12.0)"
   ]
  },
  {
   "cell_type": "markdown",
   "metadata": {},
   "source": [
    "## Grid Search CV Pipeline - Logistic Regression"
   ]
  },
  {
   "cell_type": "code",
   "execution_count": 9,
   "metadata": {
    "collapsed": true
   },
   "outputs": [],
   "source": [
    "from sklearn.linear_model import LogisticRegression\n",
    "from sklearn.pipeline import make_pipeline\n",
    "from sklearn.preprocessing import MinMaxScaler"
   ]
  },
  {
   "cell_type": "code",
   "execution_count": 15,
   "metadata": {},
   "outputs": [],
   "source": [
    "pipe = Pipeline([\n",
    "    ('scaler', MinMaxScaler()),\n",
    "    ('reduce_dim', PCA()),\n",
    "    ('classify', LogisticRegression(penalty=\"l2\"))\n",
    "])\n",
    "\n",
    "#N_DIM = [15, 16, 17]\n",
    "N_DIM = [16]\n",
    "#C_OPTIONS = [0.01, 0.001, 0.0001]\n",
    "C_OPTIONS = [0.001]\n",
    "\n",
    "param_grid = [{\n",
    "        'reduce_dim__n_components': N_DIM,\n",
    "        'classify__C': C_OPTIONS\n",
    "    }]\n",
    "\n",
    "lr_grid = GridSearchCV(pipe, cv=5, n_jobs=1, param_grid=param_grid, verbose=2, scoring='neg_log_loss')"
   ]
  },
  {
   "cell_type": "code",
   "execution_count": 16,
   "metadata": {},
   "outputs": [
    {
     "name": "stdout",
     "output_type": "stream",
     "text": [
      "Fitting 5 folds for each of 9 candidates, totalling 45 fits\n",
      "[CV] classify__C=0.01, reduce_dim__n_components=15 ...................\n",
      "[CV] .... classify__C=0.01, reduce_dim__n_components=15, total=   4.7s\n",
      "[CV] classify__C=0.01, reduce_dim__n_components=15 ...................\n"
     ]
    },
    {
     "name": "stderr",
     "output_type": "stream",
     "text": [
      "[Parallel(n_jobs=1)]: Done   1 out of   1 | elapsed:    5.0s remaining:    0.0s\n"
     ]
    },
    {
     "name": "stdout",
     "output_type": "stream",
     "text": [
      "[CV] .... classify__C=0.01, reduce_dim__n_components=15, total=   4.5s\n",
      "[CV] classify__C=0.01, reduce_dim__n_components=15 ...................\n",
      "[CV] .... classify__C=0.01, reduce_dim__n_components=15, total=   4.4s\n",
      "[CV] classify__C=0.01, reduce_dim__n_components=15 ...................\n",
      "[CV] .... classify__C=0.01, reduce_dim__n_components=15, total=   4.4s\n",
      "[CV] classify__C=0.01, reduce_dim__n_components=15 ...................\n",
      "[CV] .... classify__C=0.01, reduce_dim__n_components=15, total=   4.3s\n",
      "[CV] classify__C=0.01, reduce_dim__n_components=16 ...................\n",
      "[CV] .... classify__C=0.01, reduce_dim__n_components=16, total=   4.5s\n",
      "[CV] classify__C=0.01, reduce_dim__n_components=16 ...................\n",
      "[CV] .... classify__C=0.01, reduce_dim__n_components=16, total=   4.6s\n",
      "[CV] classify__C=0.01, reduce_dim__n_components=16 ...................\n",
      "[CV] .... classify__C=0.01, reduce_dim__n_components=16, total=   4.5s\n",
      "[CV] classify__C=0.01, reduce_dim__n_components=16 ...................\n",
      "[CV] .... classify__C=0.01, reduce_dim__n_components=16, total=   4.5s\n",
      "[CV] classify__C=0.01, reduce_dim__n_components=16 ...................\n",
      "[CV] .... classify__C=0.01, reduce_dim__n_components=16, total=   4.5s\n",
      "[CV] classify__C=0.01, reduce_dim__n_components=17 ...................\n",
      "[CV] .... classify__C=0.01, reduce_dim__n_components=17, total=   4.8s\n",
      "[CV] classify__C=0.01, reduce_dim__n_components=17 ...................\n",
      "[CV] .... classify__C=0.01, reduce_dim__n_components=17, total=   4.9s\n",
      "[CV] classify__C=0.01, reduce_dim__n_components=17 ...................\n",
      "[CV] .... classify__C=0.01, reduce_dim__n_components=17, total=   4.7s\n",
      "[CV] classify__C=0.01, reduce_dim__n_components=17 ...................\n",
      "[CV] .... classify__C=0.01, reduce_dim__n_components=17, total=   4.7s\n",
      "[CV] classify__C=0.01, reduce_dim__n_components=17 ...................\n",
      "[CV] .... classify__C=0.01, reduce_dim__n_components=17, total=   4.8s\n",
      "[CV] classify__C=0.001, reduce_dim__n_components=15 ..................\n",
      "[CV] ... classify__C=0.001, reduce_dim__n_components=15, total=   4.2s\n",
      "[CV] classify__C=0.001, reduce_dim__n_components=15 ..................\n",
      "[CV] ... classify__C=0.001, reduce_dim__n_components=15, total=   4.2s\n",
      "[CV] classify__C=0.001, reduce_dim__n_components=15 ..................\n",
      "[CV] ... classify__C=0.001, reduce_dim__n_components=15, total=   4.1s\n",
      "[CV] classify__C=0.001, reduce_dim__n_components=15 ..................\n",
      "[CV] ... classify__C=0.001, reduce_dim__n_components=15, total=   4.1s\n",
      "[CV] classify__C=0.001, reduce_dim__n_components=15 ..................\n",
      "[CV] ... classify__C=0.001, reduce_dim__n_components=15, total=   4.2s\n",
      "[CV] classify__C=0.001, reduce_dim__n_components=16 ..................\n",
      "[CV] ... classify__C=0.001, reduce_dim__n_components=16, total=   4.3s\n",
      "[CV] classify__C=0.001, reduce_dim__n_components=16 ..................\n",
      "[CV] ... classify__C=0.001, reduce_dim__n_components=16, total=   4.3s\n",
      "[CV] classify__C=0.001, reduce_dim__n_components=16 ..................\n",
      "[CV] ... classify__C=0.001, reduce_dim__n_components=16, total=   4.4s\n",
      "[CV] classify__C=0.001, reduce_dim__n_components=16 ..................\n",
      "[CV] ... classify__C=0.001, reduce_dim__n_components=16, total=   4.4s\n",
      "[CV] classify__C=0.001, reduce_dim__n_components=16 ..................\n",
      "[CV] ... classify__C=0.001, reduce_dim__n_components=16, total=   4.4s\n",
      "[CV] classify__C=0.001, reduce_dim__n_components=17 ..................\n",
      "[CV] ... classify__C=0.001, reduce_dim__n_components=17, total=   4.5s\n",
      "[CV] classify__C=0.001, reduce_dim__n_components=17 ..................\n",
      "[CV] ... classify__C=0.001, reduce_dim__n_components=17, total=   4.5s\n",
      "[CV] classify__C=0.001, reduce_dim__n_components=17 ..................\n",
      "[CV] ... classify__C=0.001, reduce_dim__n_components=17, total=   4.6s\n",
      "[CV] classify__C=0.001, reduce_dim__n_components=17 ..................\n",
      "[CV] ... classify__C=0.001, reduce_dim__n_components=17, total=   4.5s\n",
      "[CV] classify__C=0.001, reduce_dim__n_components=17 ..................\n",
      "[CV] ... classify__C=0.001, reduce_dim__n_components=17, total=   4.7s\n",
      "[CV] classify__C=0.0001, reduce_dim__n_components=15 .................\n",
      "[CV] .. classify__C=0.0001, reduce_dim__n_components=15, total=   3.9s\n",
      "[CV] classify__C=0.0001, reduce_dim__n_components=15 .................\n",
      "[CV] .. classify__C=0.0001, reduce_dim__n_components=15, total=   3.9s\n",
      "[CV] classify__C=0.0001, reduce_dim__n_components=15 .................\n",
      "[CV] .. classify__C=0.0001, reduce_dim__n_components=15, total=   3.9s\n",
      "[CV] classify__C=0.0001, reduce_dim__n_components=15 .................\n",
      "[CV] .. classify__C=0.0001, reduce_dim__n_components=15, total=   3.9s\n",
      "[CV] classify__C=0.0001, reduce_dim__n_components=15 .................\n",
      "[CV] .. classify__C=0.0001, reduce_dim__n_components=15, total=   3.8s\n",
      "[CV] classify__C=0.0001, reduce_dim__n_components=16 .................\n",
      "[CV] .. classify__C=0.0001, reduce_dim__n_components=16, total=   4.0s\n",
      "[CV] classify__C=0.0001, reduce_dim__n_components=16 .................\n",
      "[CV] .. classify__C=0.0001, reduce_dim__n_components=16, total=   4.0s\n",
      "[CV] classify__C=0.0001, reduce_dim__n_components=16 .................\n",
      "[CV] .. classify__C=0.0001, reduce_dim__n_components=16, total=   3.9s\n",
      "[CV] classify__C=0.0001, reduce_dim__n_components=16 .................\n",
      "[CV] .. classify__C=0.0001, reduce_dim__n_components=16, total=   4.0s\n",
      "[CV] classify__C=0.0001, reduce_dim__n_components=16 .................\n",
      "[CV] .. classify__C=0.0001, reduce_dim__n_components=16, total=   4.0s\n",
      "[CV] classify__C=0.0001, reduce_dim__n_components=17 .................\n",
      "[CV] .. classify__C=0.0001, reduce_dim__n_components=17, total=   4.1s\n",
      "[CV] classify__C=0.0001, reduce_dim__n_components=17 .................\n",
      "[CV] .. classify__C=0.0001, reduce_dim__n_components=17, total=   4.2s\n",
      "[CV] classify__C=0.0001, reduce_dim__n_components=17 .................\n",
      "[CV] .. classify__C=0.0001, reduce_dim__n_components=17, total=   4.1s\n",
      "[CV] classify__C=0.0001, reduce_dim__n_components=17 .................\n",
      "[CV] .. classify__C=0.0001, reduce_dim__n_components=17, total=   4.1s\n",
      "[CV] classify__C=0.0001, reduce_dim__n_components=17 .................\n",
      "[CV] .. classify__C=0.0001, reduce_dim__n_components=17, total=   4.2s\n"
     ]
    },
    {
     "name": "stderr",
     "output_type": "stream",
     "text": [
      "[Parallel(n_jobs=1)]: Done  45 out of  45 | elapsed:  3.5min finished\n"
     ]
    },
    {
     "name": "stdout",
     "output_type": "stream",
     "text": [
      "{'classify__C': 0.001, 'reduce_dim__n_components': 16}\n"
     ]
    }
   ],
   "source": [
    "lr_grid.fit(x_train.values, y_train.values)\n",
    "\n",
    "lr_model = lr_grid.best_estimator_\n",
    "print(lr_grid.best_params_)"
   ]
  },
  {
   "cell_type": "code",
   "execution_count": 21,
   "metadata": {
    "collapsed": true
   },
   "outputs": [],
   "source": [
    "from sklearn.externals import joblib\n",
    "\n",
    "joblib.dump(lr_model, 'lr_model.pkl')\n",
    "lr_model = joblib.load('lr_model.pkl') "
   ]
  },
  {
   "cell_type": "code",
   "execution_count": 17,
   "metadata": {},
   "outputs": [
    {
     "name": "stdout",
     "output_type": "stream",
     "text": [
      "Logloss: 0.6925321039\n",
      "Guessing gets you: 0.6931471805599453\n",
      "0.692708306802\n",
      "0.691789774824\n",
      "0.692840669709\n",
      "0.691724231983\n",
      "0.692949258116\n",
      "0.691884858088\n",
      "0.693575076127\n",
      "0.692723084604\n",
      "0.690784376419\n",
      "0.692858722031\n",
      "0.692621439188\n",
      "0.693991242519\n",
      "0.16666666666666666\n"
     ]
    }
   ],
   "source": [
    "score_model(lr_model, x_val, y_val, val_eras)"
   ]
  },
  {
   "cell_type": "markdown",
   "metadata": {},
   "source": [
    "## GridSearch CV Pipeline - XGBoost Classifier"
   ]
  },
  {
   "cell_type": "code",
   "execution_count": 18,
   "metadata": {
    "collapsed": true
   },
   "outputs": [],
   "source": [
    "from xgboost import XGBClassifier"
   ]
  },
  {
   "cell_type": "code",
   "execution_count": null,
   "metadata": {
    "collapsed": true
   },
   "outputs": [],
   "source": [
    "#idx = np.random.choice(len(x_train_pca), size=90000, replace=False)"
   ]
  },
  {
   "cell_type": "code",
   "execution_count": 19,
   "metadata": {
    "collapsed": true
   },
   "outputs": [],
   "source": [
    "pipe = Pipeline([\n",
    "    ('scaler', MinMaxScaler()),\n",
    "    ('reduce_dim', PCA(n_components=16)),\n",
    "    ('classify', XGBClassifier(eval_metric='logloss', n_jobs=-1, silent=False))\n",
    "])\n",
    "\n",
    "N_EST = [50, 60]\n",
    "LR = [0.01, 0.1]\n",
    "DEPTH = [10]\n",
    "\n",
    "param_grid = [{\n",
    "        'classify__n_estimators': N_EST,\n",
    "        'classify__learning_rate': LR,\n",
    "        'classify__max_depth': DEPTH        \n",
    "    }]\n",
    "\n",
    "xgb_grid = GridSearchCV(pipe, cv=3, n_jobs=1, param_grid=param_grid, verbose=2, scoring='neg_log_loss')"
   ]
  },
  {
   "cell_type": "code",
   "execution_count": 20,
   "metadata": {},
   "outputs": [
    {
     "name": "stdout",
     "output_type": "stream",
     "text": [
      "Fitting 3 folds for each of 27 candidates, totalling 81 fits\n",
      "[CV] classify__max_depth=10, classify__learning_rate=0.01, classify__n_estimators=10 \n",
      "[CV]  classify__max_depth=10, classify__learning_rate=0.01, classify__n_estimators=10, total=   5.5s\n",
      "[CV] classify__max_depth=10, classify__learning_rate=0.01, classify__n_estimators=10 \n"
     ]
    },
    {
     "name": "stderr",
     "output_type": "stream",
     "text": [
      "[Parallel(n_jobs=1)]: Done   1 out of   1 | elapsed:    5.8s remaining:    0.0s\n"
     ]
    },
    {
     "name": "stdout",
     "output_type": "stream",
     "text": [
      "[CV]  classify__max_depth=10, classify__learning_rate=0.01, classify__n_estimators=10, total=   5.7s\n",
      "[CV] classify__max_depth=10, classify__learning_rate=0.01, classify__n_estimators=10 \n",
      "[CV]  classify__max_depth=10, classify__learning_rate=0.01, classify__n_estimators=10, total=   5.8s\n",
      "[CV] classify__max_depth=10, classify__learning_rate=0.01, classify__n_estimators=25 \n",
      "[CV]  classify__max_depth=10, classify__learning_rate=0.01, classify__n_estimators=25, total=   9.7s\n",
      "[CV] classify__max_depth=10, classify__learning_rate=0.01, classify__n_estimators=25 \n",
      "[CV]  classify__max_depth=10, classify__learning_rate=0.01, classify__n_estimators=25, total=   9.9s\n",
      "[CV] classify__max_depth=10, classify__learning_rate=0.01, classify__n_estimators=25 \n",
      "[CV]  classify__max_depth=10, classify__learning_rate=0.01, classify__n_estimators=25, total=   9.9s\n",
      "[CV] classify__max_depth=10, classify__learning_rate=0.01, classify__n_estimators=50 \n",
      "[CV]  classify__max_depth=10, classify__learning_rate=0.01, classify__n_estimators=50, total=  16.7s\n",
      "[CV] classify__max_depth=10, classify__learning_rate=0.01, classify__n_estimators=50 \n",
      "[CV]  classify__max_depth=10, classify__learning_rate=0.01, classify__n_estimators=50, total=  16.7s\n",
      "[CV] classify__max_depth=10, classify__learning_rate=0.01, classify__n_estimators=50 \n",
      "[CV]  classify__max_depth=10, classify__learning_rate=0.01, classify__n_estimators=50, total=  16.8s\n",
      "[CV] classify__max_depth=20, classify__learning_rate=0.01, classify__n_estimators=10 \n",
      "[CV]  classify__max_depth=20, classify__learning_rate=0.01, classify__n_estimators=10, total=   8.7s\n",
      "[CV] classify__max_depth=20, classify__learning_rate=0.01, classify__n_estimators=10 \n",
      "[CV]  classify__max_depth=20, classify__learning_rate=0.01, classify__n_estimators=10, total=   9.0s\n",
      "[CV] classify__max_depth=20, classify__learning_rate=0.01, classify__n_estimators=10 \n",
      "[CV]  classify__max_depth=20, classify__learning_rate=0.01, classify__n_estimators=10, total=   9.1s\n",
      "[CV] classify__max_depth=20, classify__learning_rate=0.01, classify__n_estimators=25 \n",
      "[CV]  classify__max_depth=20, classify__learning_rate=0.01, classify__n_estimators=25, total=  17.9s\n",
      "[CV] classify__max_depth=20, classify__learning_rate=0.01, classify__n_estimators=25 \n",
      "[CV]  classify__max_depth=20, classify__learning_rate=0.01, classify__n_estimators=25, total=  17.8s\n",
      "[CV] classify__max_depth=20, classify__learning_rate=0.01, classify__n_estimators=25 \n",
      "[CV]  classify__max_depth=20, classify__learning_rate=0.01, classify__n_estimators=25, total=  18.0s\n",
      "[CV] classify__max_depth=20, classify__learning_rate=0.01, classify__n_estimators=50 \n",
      "[CV]  classify__max_depth=20, classify__learning_rate=0.01, classify__n_estimators=50, total=  32.4s\n",
      "[CV] classify__max_depth=20, classify__learning_rate=0.01, classify__n_estimators=50 \n",
      "[CV]  classify__max_depth=20, classify__learning_rate=0.01, classify__n_estimators=50, total=  33.0s\n",
      "[CV] classify__max_depth=20, classify__learning_rate=0.01, classify__n_estimators=50 \n",
      "[CV]  classify__max_depth=20, classify__learning_rate=0.01, classify__n_estimators=50, total=  33.0s\n",
      "[CV] classify__max_depth=30, classify__learning_rate=0.01, classify__n_estimators=10 \n",
      "[CV]  classify__max_depth=30, classify__learning_rate=0.01, classify__n_estimators=10, total=  11.3s\n",
      "[CV] classify__max_depth=30, classify__learning_rate=0.01, classify__n_estimators=10 \n",
      "[CV]  classify__max_depth=30, classify__learning_rate=0.01, classify__n_estimators=10, total=  11.6s\n",
      "[CV] classify__max_depth=30, classify__learning_rate=0.01, classify__n_estimators=10 \n",
      "[CV]  classify__max_depth=30, classify__learning_rate=0.01, classify__n_estimators=10, total=  11.5s\n",
      "[CV] classify__max_depth=30, classify__learning_rate=0.01, classify__n_estimators=25 \n",
      "[CV]  classify__max_depth=30, classify__learning_rate=0.01, classify__n_estimators=25, total=  24.3s\n",
      "[CV] classify__max_depth=30, classify__learning_rate=0.01, classify__n_estimators=25 \n",
      "[CV]  classify__max_depth=30, classify__learning_rate=0.01, classify__n_estimators=25, total=  24.4s\n",
      "[CV] classify__max_depth=30, classify__learning_rate=0.01, classify__n_estimators=25 \n",
      "[CV]  classify__max_depth=30, classify__learning_rate=0.01, classify__n_estimators=25, total=  24.5s\n",
      "[CV] classify__max_depth=30, classify__learning_rate=0.01, classify__n_estimators=50 \n",
      "[CV]  classify__max_depth=30, classify__learning_rate=0.01, classify__n_estimators=50, total=  46.7s\n",
      "[CV] classify__max_depth=30, classify__learning_rate=0.01, classify__n_estimators=50 \n",
      "[CV]  classify__max_depth=30, classify__learning_rate=0.01, classify__n_estimators=50, total=  47.4s\n",
      "[CV] classify__max_depth=30, classify__learning_rate=0.01, classify__n_estimators=50 \n",
      "[CV]  classify__max_depth=30, classify__learning_rate=0.01, classify__n_estimators=50, total=  46.6s\n",
      "[CV] classify__max_depth=10, classify__learning_rate=0.001, classify__n_estimators=10 \n",
      "[CV]  classify__max_depth=10, classify__learning_rate=0.001, classify__n_estimators=10, total=   5.4s\n",
      "[CV] classify__max_depth=10, classify__learning_rate=0.001, classify__n_estimators=10 \n",
      "[CV]  classify__max_depth=10, classify__learning_rate=0.001, classify__n_estimators=10, total=   5.7s\n",
      "[CV] classify__max_depth=10, classify__learning_rate=0.001, classify__n_estimators=10 \n",
      "[CV]  classify__max_depth=10, classify__learning_rate=0.001, classify__n_estimators=10, total=   5.8s\n",
      "[CV] classify__max_depth=10, classify__learning_rate=0.001, classify__n_estimators=25 \n",
      "[CV]  classify__max_depth=10, classify__learning_rate=0.001, classify__n_estimators=25, total=   9.5s\n",
      "[CV] classify__max_depth=10, classify__learning_rate=0.001, classify__n_estimators=25 \n",
      "[CV]  classify__max_depth=10, classify__learning_rate=0.001, classify__n_estimators=25, total=   9.8s\n",
      "[CV] classify__max_depth=10, classify__learning_rate=0.001, classify__n_estimators=25 \n",
      "[CV]  classify__max_depth=10, classify__learning_rate=0.001, classify__n_estimators=25, total=   9.8s\n",
      "[CV] classify__max_depth=10, classify__learning_rate=0.001, classify__n_estimators=50 \n",
      "[CV]  classify__max_depth=10, classify__learning_rate=0.001, classify__n_estimators=50, total=  16.4s\n",
      "[CV] classify__max_depth=10, classify__learning_rate=0.001, classify__n_estimators=50 \n",
      "[CV]  classify__max_depth=10, classify__learning_rate=0.001, classify__n_estimators=50, total=  16.7s\n",
      "[CV] classify__max_depth=10, classify__learning_rate=0.001, classify__n_estimators=50 \n",
      "[CV]  classify__max_depth=10, classify__learning_rate=0.001, classify__n_estimators=50, total=  16.7s\n",
      "[CV] classify__max_depth=20, classify__learning_rate=0.001, classify__n_estimators=10 \n",
      "[CV]  classify__max_depth=20, classify__learning_rate=0.001, classify__n_estimators=10, total=   8.7s\n",
      "[CV] classify__max_depth=20, classify__learning_rate=0.001, classify__n_estimators=10 \n",
      "[CV]  classify__max_depth=20, classify__learning_rate=0.001, classify__n_estimators=10, total=   8.8s\n",
      "[CV] classify__max_depth=20, classify__learning_rate=0.001, classify__n_estimators=10 \n",
      "[CV]  classify__max_depth=20, classify__learning_rate=0.001, classify__n_estimators=10, total=   8.9s\n",
      "[CV] classify__max_depth=20, classify__learning_rate=0.001, classify__n_estimators=25 \n",
      "[CV]  classify__max_depth=20, classify__learning_rate=0.001, classify__n_estimators=25, total=  17.4s\n",
      "[CV] classify__max_depth=20, classify__learning_rate=0.001, classify__n_estimators=25 \n",
      "[CV]  classify__max_depth=20, classify__learning_rate=0.001, classify__n_estimators=25, total=  17.4s\n",
      "[CV] classify__max_depth=20, classify__learning_rate=0.001, classify__n_estimators=25 \n",
      "[CV]  classify__max_depth=20, classify__learning_rate=0.001, classify__n_estimators=25, total=  17.7s\n",
      "[CV] classify__max_depth=20, classify__learning_rate=0.001, classify__n_estimators=50 \n",
      "[CV]  classify__max_depth=20, classify__learning_rate=0.001, classify__n_estimators=50, total=  32.7s\n",
      "[CV] classify__max_depth=20, classify__learning_rate=0.001, classify__n_estimators=50 \n",
      "[CV]  classify__max_depth=20, classify__learning_rate=0.001, classify__n_estimators=50, total=  32.9s\n",
      "[CV] classify__max_depth=20, classify__learning_rate=0.001, classify__n_estimators=50 \n",
      "[CV]  classify__max_depth=20, classify__learning_rate=0.001, classify__n_estimators=50, total=  32.9s\n",
      "[CV] classify__max_depth=30, classify__learning_rate=0.001, classify__n_estimators=10 \n"
     ]
    },
    {
     "name": "stdout",
     "output_type": "stream",
     "text": [
      "[CV]  classify__max_depth=30, classify__learning_rate=0.001, classify__n_estimators=10, total=  11.3s\n",
      "[CV] classify__max_depth=30, classify__learning_rate=0.001, classify__n_estimators=10 \n",
      "[CV]  classify__max_depth=30, classify__learning_rate=0.001, classify__n_estimators=10, total=  11.6s\n",
      "[CV] classify__max_depth=30, classify__learning_rate=0.001, classify__n_estimators=10 \n",
      "[CV]  classify__max_depth=30, classify__learning_rate=0.001, classify__n_estimators=10, total=  11.6s\n",
      "[CV] classify__max_depth=30, classify__learning_rate=0.001, classify__n_estimators=25 \n",
      "[CV]  classify__max_depth=30, classify__learning_rate=0.001, classify__n_estimators=25, total=  24.1s\n",
      "[CV] classify__max_depth=30, classify__learning_rate=0.001, classify__n_estimators=25 \n",
      "[CV]  classify__max_depth=30, classify__learning_rate=0.001, classify__n_estimators=25, total=  25.0s\n",
      "[CV] classify__max_depth=30, classify__learning_rate=0.001, classify__n_estimators=25 \n",
      "[CV]  classify__max_depth=30, classify__learning_rate=0.001, classify__n_estimators=25, total=  25.9s\n",
      "[CV] classify__max_depth=30, classify__learning_rate=0.001, classify__n_estimators=50 \n",
      "[CV]  classify__max_depth=30, classify__learning_rate=0.001, classify__n_estimators=50, total=  47.8s\n",
      "[CV] classify__max_depth=30, classify__learning_rate=0.001, classify__n_estimators=50 \n",
      "[CV]  classify__max_depth=30, classify__learning_rate=0.001, classify__n_estimators=50, total=  46.8s\n",
      "[CV] classify__max_depth=30, classify__learning_rate=0.001, classify__n_estimators=50 \n",
      "[CV]  classify__max_depth=30, classify__learning_rate=0.001, classify__n_estimators=50, total=  46.8s\n",
      "[CV] classify__max_depth=10, classify__learning_rate=0.0001, classify__n_estimators=10 \n",
      "[CV]  classify__max_depth=10, classify__learning_rate=0.0001, classify__n_estimators=10, total=   5.3s\n",
      "[CV] classify__max_depth=10, classify__learning_rate=0.0001, classify__n_estimators=10 \n",
      "[CV]  classify__max_depth=10, classify__learning_rate=0.0001, classify__n_estimators=10, total=   5.7s\n",
      "[CV] classify__max_depth=10, classify__learning_rate=0.0001, classify__n_estimators=10 \n",
      "[CV]  classify__max_depth=10, classify__learning_rate=0.0001, classify__n_estimators=10, total=   5.8s\n",
      "[CV] classify__max_depth=10, classify__learning_rate=0.0001, classify__n_estimators=25 \n",
      "[CV]  classify__max_depth=10, classify__learning_rate=0.0001, classify__n_estimators=25, total=   9.6s\n",
      "[CV] classify__max_depth=10, classify__learning_rate=0.0001, classify__n_estimators=25 \n",
      "[CV]  classify__max_depth=10, classify__learning_rate=0.0001, classify__n_estimators=25, total=   9.6s\n",
      "[CV] classify__max_depth=10, classify__learning_rate=0.0001, classify__n_estimators=25 \n",
      "[CV]  classify__max_depth=10, classify__learning_rate=0.0001, classify__n_estimators=25, total=   9.8s\n",
      "[CV] classify__max_depth=10, classify__learning_rate=0.0001, classify__n_estimators=50 \n",
      "[CV]  classify__max_depth=10, classify__learning_rate=0.0001, classify__n_estimators=50, total=  16.5s\n",
      "[CV] classify__max_depth=10, classify__learning_rate=0.0001, classify__n_estimators=50 \n",
      "[CV]  classify__max_depth=10, classify__learning_rate=0.0001, classify__n_estimators=50, total=  16.6s\n",
      "[CV] classify__max_depth=10, classify__learning_rate=0.0001, classify__n_estimators=50 \n",
      "[CV]  classify__max_depth=10, classify__learning_rate=0.0001, classify__n_estimators=50, total=  16.9s\n",
      "[CV] classify__max_depth=20, classify__learning_rate=0.0001, classify__n_estimators=10 \n",
      "[CV]  classify__max_depth=20, classify__learning_rate=0.0001, classify__n_estimators=10, total=   8.7s\n",
      "[CV] classify__max_depth=20, classify__learning_rate=0.0001, classify__n_estimators=10 \n",
      "[CV]  classify__max_depth=20, classify__learning_rate=0.0001, classify__n_estimators=10, total=   8.8s\n",
      "[CV] classify__max_depth=20, classify__learning_rate=0.0001, classify__n_estimators=10 \n",
      "[CV]  classify__max_depth=20, classify__learning_rate=0.0001, classify__n_estimators=10, total=   8.9s\n",
      "[CV] classify__max_depth=20, classify__learning_rate=0.0001, classify__n_estimators=25 \n",
      "[CV]  classify__max_depth=20, classify__learning_rate=0.0001, classify__n_estimators=25, total=  17.5s\n",
      "[CV] classify__max_depth=20, classify__learning_rate=0.0001, classify__n_estimators=25 \n",
      "[CV]  classify__max_depth=20, classify__learning_rate=0.0001, classify__n_estimators=25, total=  17.9s\n",
      "[CV] classify__max_depth=20, classify__learning_rate=0.0001, classify__n_estimators=25 \n",
      "[CV]  classify__max_depth=20, classify__learning_rate=0.0001, classify__n_estimators=25, total=  18.1s\n",
      "[CV] classify__max_depth=20, classify__learning_rate=0.0001, classify__n_estimators=50 \n",
      "[CV]  classify__max_depth=20, classify__learning_rate=0.0001, classify__n_estimators=50, total=  32.1s\n",
      "[CV] classify__max_depth=20, classify__learning_rate=0.0001, classify__n_estimators=50 \n",
      "[CV]  classify__max_depth=20, classify__learning_rate=0.0001, classify__n_estimators=50, total=  32.4s\n",
      "[CV] classify__max_depth=20, classify__learning_rate=0.0001, classify__n_estimators=50 \n",
      "[CV]  classify__max_depth=20, classify__learning_rate=0.0001, classify__n_estimators=50, total=  33.5s\n",
      "[CV] classify__max_depth=30, classify__learning_rate=0.0001, classify__n_estimators=10 \n",
      "[CV]  classify__max_depth=30, classify__learning_rate=0.0001, classify__n_estimators=10, total=  11.4s\n",
      "[CV] classify__max_depth=30, classify__learning_rate=0.0001, classify__n_estimators=10 \n",
      "[CV]  classify__max_depth=30, classify__learning_rate=0.0001, classify__n_estimators=10, total=  11.6s\n",
      "[CV] classify__max_depth=30, classify__learning_rate=0.0001, classify__n_estimators=10 \n",
      "[CV]  classify__max_depth=30, classify__learning_rate=0.0001, classify__n_estimators=10, total=  11.6s\n",
      "[CV] classify__max_depth=30, classify__learning_rate=0.0001, classify__n_estimators=25 \n",
      "[CV]  classify__max_depth=30, classify__learning_rate=0.0001, classify__n_estimators=25, total=  24.5s\n",
      "[CV] classify__max_depth=30, classify__learning_rate=0.0001, classify__n_estimators=25 \n",
      "[CV]  classify__max_depth=30, classify__learning_rate=0.0001, classify__n_estimators=25, total=  24.9s\n",
      "[CV] classify__max_depth=30, classify__learning_rate=0.0001, classify__n_estimators=25 \n",
      "[CV]  classify__max_depth=30, classify__learning_rate=0.0001, classify__n_estimators=25, total=  24.7s\n",
      "[CV] classify__max_depth=30, classify__learning_rate=0.0001, classify__n_estimators=50 \n",
      "[CV]  classify__max_depth=30, classify__learning_rate=0.0001, classify__n_estimators=50, total=  46.1s\n",
      "[CV] classify__max_depth=30, classify__learning_rate=0.0001, classify__n_estimators=50 \n",
      "[CV]  classify__max_depth=30, classify__learning_rate=0.0001, classify__n_estimators=50, total=  45.9s\n",
      "[CV] classify__max_depth=30, classify__learning_rate=0.0001, classify__n_estimators=50 \n",
      "[CV]  classify__max_depth=30, classify__learning_rate=0.0001, classify__n_estimators=50, total=  45.7s\n"
     ]
    },
    {
     "name": "stderr",
     "output_type": "stream",
     "text": [
      "[Parallel(n_jobs=1)]: Done  81 out of  81 | elapsed: 27.1min finished\n"
     ]
    },
    {
     "name": "stdout",
     "output_type": "stream",
     "text": [
      "{'classify__max_depth': 10, 'classify__learning_rate': 0.01, 'classify__n_estimators': 50}\n"
     ]
    }
   ],
   "source": [
    "xgb_grid.fit(x_train.values, y_train.values)\n",
    "\n",
    "xgb_model = xgb_grid.best_estimator_\n",
    "print(xgb_grid.best_params_)"
   ]
  },
  {
   "cell_type": "code",
   "execution_count": 22,
   "metadata": {},
   "outputs": [
    {
     "data": {
      "text/plain": [
       "['xgb_model.pkl']"
      ]
     },
     "execution_count": 22,
     "metadata": {},
     "output_type": "execute_result"
    }
   ],
   "source": [
    "joblib.dump(xgb_model, 'xgb_model.pkl')\n",
    "xgb_model = joblib.load('xgb_model.pkl') "
   ]
  },
  {
   "cell_type": "code",
   "execution_count": 23,
   "metadata": {},
   "outputs": [
    {
     "name": "stdout",
     "output_type": "stream",
     "text": [
      "Logloss: 0.69285381285\n",
      "Guessing gets you: 0.6931471805599453\n",
      "0.693066785738\n",
      "0.69238226394\n",
      "0.693468806384\n",
      "0.692503554093\n",
      "0.69279399785\n",
      "0.692856942409\n",
      "0.693158837057\n",
      "0.693184564591\n",
      "0.691992692898\n",
      "0.692502629215\n",
      "0.692662535111\n",
      "0.693736877074\n",
      "0.3333333333333333\n"
     ]
    }
   ],
   "source": [
    "score_model(xgb_model, x_val, y_val, val_eras)"
   ]
  },
  {
   "cell_type": "markdown",
   "metadata": {},
   "source": [
    "## Random Forest Model"
   ]
  },
  {
   "cell_type": "code",
   "execution_count": null,
   "metadata": {
    "collapsed": true
   },
   "outputs": [],
   "source": [
    "from sklearn.ensemble import RandomForestClassifier"
   ]
  },
  {
   "cell_type": "code",
   "execution_count": null,
   "metadata": {
    "collapsed": true
   },
   "outputs": [],
   "source": [
    "rf = RandomForestClassifier(n_estimators=80, min_samples_split=10, max_depth=40, n_jobs=-1,\n",
    "                            verbose=0).fit(x_train_pca.values, y_train.values)"
   ]
  },
  {
   "cell_type": "code",
   "execution_count": null,
   "metadata": {
    "collapsed": true
   },
   "outputs": [],
   "source": [
    "score_model(rf, x_val_pca, y_val, val_eras)"
   ]
  },
  {
   "cell_type": "markdown",
   "metadata": {},
   "source": [
    "## Ensemble"
   ]
  },
  {
   "cell_type": "code",
   "execution_count": 29,
   "metadata": {},
   "outputs": [],
   "source": [
    "to_pred = pd.concat([x_val, x_test, x_live])\n",
    "\n",
    "xgb_preds = pd.Series(xgb_model.predict_proba(to_pred.values)[:,0])\n",
    "lr_preds = pd.Series(lr_model.predict_proba(to_pred.values)[:,0])\n",
    "\n",
    "to_vote = pd.concat([xgb_preds, lr_preds], axis=1)\n",
    "\n",
    "# Ensemble Tree\n",
    "ens_preds = to_vote.mean(axis=1)\n",
    "#ens_preds = lr_preds"
   ]
  },
  {
   "cell_type": "code",
   "execution_count": 30,
   "metadata": {},
   "outputs": [
    {
     "data": {
      "text/plain": [
       "count    243686.000000\n",
       "mean          0.500042\n",
       "std           0.014829\n",
       "min           0.441034\n",
       "25%           0.489719\n",
       "50%           0.499809\n",
       "75%           0.510203\n",
       "max           0.560941\n",
       "dtype: float64"
      ]
     },
     "execution_count": 30,
     "metadata": {},
     "output_type": "execute_result"
    }
   ],
   "source": [
    "ens_preds.describe()"
   ]
  },
  {
   "cell_type": "code",
   "execution_count": 31,
   "metadata": {},
   "outputs": [
    {
     "data": {
      "text/html": [
       "<div>\n",
       "<style>\n",
       "    .dataframe thead tr:only-child th {\n",
       "        text-align: right;\n",
       "    }\n",
       "\n",
       "    .dataframe thead th {\n",
       "        text-align: left;\n",
       "    }\n",
       "\n",
       "    .dataframe tbody tr th {\n",
       "        vertical-align: top;\n",
       "    }\n",
       "</style>\n",
       "<table border=\"1\" class=\"dataframe\">\n",
       "  <thead>\n",
       "    <tr style=\"text-align: right;\">\n",
       "      <th></th>\n",
       "      <th>id</th>\n",
       "      <th>probability</th>\n",
       "    </tr>\n",
       "  </thead>\n",
       "  <tbody>\n",
       "    <tr>\n",
       "      <th>0</th>\n",
       "      <td>n0ccd86bc449a493</td>\n",
       "      <td>0.516402</td>\n",
       "    </tr>\n",
       "    <tr>\n",
       "      <th>1</th>\n",
       "      <td>n835f1ade074f496</td>\n",
       "      <td>0.493559</td>\n",
       "    </tr>\n",
       "    <tr>\n",
       "      <th>2</th>\n",
       "      <td>ne64378a45fbc4b7</td>\n",
       "      <td>0.507942</td>\n",
       "    </tr>\n",
       "    <tr>\n",
       "      <th>3</th>\n",
       "      <td>n1ed84cd94d77407</td>\n",
       "      <td>0.539599</td>\n",
       "    </tr>\n",
       "    <tr>\n",
       "      <th>4</th>\n",
       "      <td>n0e26cff583d9458</td>\n",
       "      <td>0.506431</td>\n",
       "    </tr>\n",
       "  </tbody>\n",
       "</table>\n",
       "</div>"
      ],
      "text/plain": [
       "                 id  probability\n",
       "0  n0ccd86bc449a493     0.516402\n",
       "1  n835f1ade074f496     0.493559\n",
       "2  ne64378a45fbc4b7     0.507942\n",
       "3  n1ed84cd94d77407     0.539599\n",
       "4  n0e26cff583d9458     0.506431"
      ]
     },
     "execution_count": 31,
     "metadata": {},
     "output_type": "execute_result"
    }
   ],
   "source": [
    "sub = pd.concat([pd.Series(to_pred.index), pd.Series(ens_preds)], axis=1)\n",
    "sub.columns = ['id', 'probability']\n",
    "sub.head()"
   ]
  },
  {
   "cell_type": "code",
   "execution_count": 41,
   "metadata": {},
   "outputs": [],
   "source": [
    "pred_path = 'sub_sk_88_1.csv'\n",
    "\n",
    "sub.to_csv(pred_path, index=False)"
   ]
  },
  {
   "cell_type": "code",
   "execution_count": 37,
   "metadata": {},
   "outputs": [],
   "source": [
    "from numeraiapi.numerapi import NumerAPI"
   ]
  },
  {
   "cell_type": "code",
   "execution_count": 33,
   "metadata": {
    "collapsed": true
   },
   "outputs": [],
   "source": [
    "key = 'HOZSYDP45H7FCVV3N2QWRZVXTRYWS74QODA2ON5TOUHRJLG3STJOU63M2ZVYTZGN'"
   ]
  },
  {
   "cell_type": "code",
   "execution_count": 39,
   "metadata": {
    "collapsed": true
   },
   "outputs": [],
   "source": [
    "def upload_preds(path_to_preds):\n",
    "    # set example username and round\n",
    "    example_public_id = \"spacekitty\"\n",
    "    example_secret_key = key\n",
    "\n",
    "    # some API calls do not require logging in\n",
    "    napi = NumerAPI(verbosity=\"info\")\n",
    "    \n",
    "    # download current dataset\n",
    "    napi.download_current_dataset(unzip=True)\n",
    "    \n",
    "    # provide api tokens\n",
    "    napi = NumerAPI(example_public_id, example_secret_key)\n",
    "\n",
    "    # upload predictions\n",
    "    submission_id = napi.upload_predictions(path_to_preds)\n",
    "    \n",
    "    # check submission status\n",
    "    napi.submission_status()"
   ]
  },
  {
   "cell_type": "code",
   "execution_count": null,
   "metadata": {
    "collapsed": true
   },
   "outputs": [],
   "source": [
    "upload_preds(pred_path)"
   ]
  }
 ],
 "metadata": {
  "kernelspec": {
   "display_name": "Python 3",
   "language": "python",
   "name": "python3"
  },
  "language_info": {
   "codemirror_mode": {
    "name": "ipython",
    "version": 3
   },
   "file_extension": ".py",
   "mimetype": "text/x-python",
   "name": "python",
   "nbconvert_exporter": "python",
   "pygments_lexer": "ipython3",
   "version": "3.5.3"
  }
 },
 "nbformat": 4,
 "nbformat_minor": 2
}
