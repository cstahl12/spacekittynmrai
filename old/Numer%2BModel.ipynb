{
 "cells": [
  {
   "cell_type": "markdown",
   "metadata": {
    "deletable": true,
    "editable": true
   },
   "source": [
    "## Load Environments"
   ]
  },
  {
   "cell_type": "code",
   "execution_count": 1,
   "metadata": {
    "collapsed": true,
    "deletable": true,
    "editable": true
   },
   "outputs": [],
   "source": [
    "from __future__ import print_function\n",
    "import numpy as np\n",
    "import pandas as pd\n",
    "import matplotlib.pyplot as plt\n",
    "from math import log"
   ]
  },
  {
   "cell_type": "code",
   "execution_count": 24,
   "metadata": {
    "collapsed": false,
    "deletable": true,
    "editable": true
   },
   "outputs": [],
   "source": [
    "from sklearn.preprocessing import LabelEncoder\n",
    "from sklearn.decomposition import PCA\n",
    "from sklearn.metrics import log_loss\n",
    "from sklearn.model_selection import GridSearchCV, LeaveOneGroupOut, ParameterGrid"
   ]
  },
  {
   "cell_type": "code",
   "execution_count": 3,
   "metadata": {
    "collapsed": true,
    "deletable": true,
    "editable": true
   },
   "outputs": [],
   "source": [
    "from sklearn.ensemble import RandomForestClassifier, GradientBoostingClassifier\n",
    "from sklearn.svm import SVC\n",
    "from sklearn.linear_model import SGDClassifier\n",
    "from sklearn.tree import DecisionTreeClassifier\n",
    "from sklearn.neighbors import KNeighborsClassifier"
   ]
  },
  {
   "cell_type": "code",
   "execution_count": 41,
   "metadata": {
    "collapsed": false
   },
   "outputs": [],
   "source": [
    "from keras.models import Sequential\n",
    "from keras.layers import Dense, Dropout, Activation\n",
    "from keras.optimizers import SGD, Adam\n",
    "from keras.regularizers import l2 "
   ]
  },
  {
   "cell_type": "markdown",
   "metadata": {
    "deletable": true,
    "editable": true
   },
   "source": [
    "## Read in raw data sets, training, tournament (val, test, live)"
   ]
  },
  {
   "cell_type": "code",
   "execution_count": 5,
   "metadata": {
    "collapsed": false,
    "deletable": true,
    "editable": true
   },
   "outputs": [],
   "source": [
    "raw_train = pd.read_csv('data/train_62.csv', index_col=0)\n",
    "raw_test = pd.read_csv('data/test_62.csv', index_col=0)"
   ]
  },
  {
   "cell_type": "code",
   "execution_count": 6,
   "metadata": {
    "collapsed": false,
    "deletable": true,
    "editable": true
   },
   "outputs": [],
   "source": [
    "train = raw_train[raw_train.loc[:,'data_type']=='train'].drop(['data_type', 'era'], axis=1)\n",
    "train_eras = raw_train[raw_train.loc[:,'data_type']=='train']['era']\n",
    "\n",
    "valid = raw_test[raw_test.loc[:,'data_type']=='validation'].drop(['data_type', 'era'], axis=1)\n",
    "val_eras = raw_test[raw_test.loc[:,'data_type']=='validation']['era']\n",
    "\n",
    "test = raw_test[raw_test.loc[:,'data_type']=='test'].drop(['data_type', 'target', 'era'], axis=1)\n",
    "live = raw_test[raw_test.loc[:,'data_type']=='live'].drop(['data_type', 'target', 'era'], axis=1)"
   ]
  },
  {
   "cell_type": "code",
   "execution_count": 7,
   "metadata": {
    "collapsed": false,
    "deletable": true,
    "editable": true
   },
   "outputs": [],
   "source": [
    "x_train = train.drop(['target'], axis=1)\n",
    "x_val = valid.drop(['target'], axis=1)\n",
    "y_train = train['target']\n",
    "y_val = valid['target']"
   ]
  },
  {
   "cell_type": "markdown",
   "metadata": {},
   "source": [
    "## Data Preprocessing"
   ]
  },
  {
   "cell_type": "code",
   "execution_count": 8,
   "metadata": {
    "collapsed": false,
    "scrolled": true
   },
   "outputs": [],
   "source": [
    "def score_sk_model(mod, x_val_pca, y_val, val_eras):    \n",
    "    print('Logloss: ' + str(log_loss(y_val.values, mod.predict_proba(x_val_pca))))\n",
    "    val_logo = LeaveOneGroupOut()\n",
    "    scores = []\n",
    "    fail = 0\n",
    "    guessing = -log(.5)\n",
    "    for _, index in val_logo.split(x_val_pca, y_val.values, val_eras.values):\n",
    "        score = log_loss(y_val.iloc[index].values, mod.predict_proba(x_val_pca[index,:]))\n",
    "        #score = log_loss(y_val.iloc[index].values, mod.predict(x_val_pca[index,:]))\n",
    "        print(score)\n",
    "        if(score > guessing):\n",
    "            fail += 1\n",
    "    print(fail / 12.0)"
   ]
  },
  {
   "cell_type": "code",
   "execution_count": 9,
   "metadata": {
    "collapsed": false,
    "deletable": true,
    "editable": true
   },
   "outputs": [],
   "source": [
    "pca = PCA(n_components=4)\n",
    "x_train_pca = pca.fit_transform(x_train.values)\n",
    "#x_train_pca = x_train.values\n",
    "x_val_pca = pca.transform(x_val.values)\n",
    "#x_val_pca = x_val.values\n",
    "\n",
    "# logo = LeaveOneGroupOut()\n",
    "# cv = logo.split(x_train_pca, y_train.values, eras.values)"
   ]
  },
  {
   "cell_type": "code",
   "execution_count": 74,
   "metadata": {
    "collapsed": true
   },
   "outputs": [],
   "source": [
    "from sklearn.preprocessing import StandardScaler\n",
    "\n",
    "scaler = StandardScaler().fit(x_train.values)\n",
    "x_train_scale = scaler.transform(x_train.values)\n",
    "x_val_scale = scaler.transform(x_val.values)"
   ]
  },
  {
   "cell_type": "markdown",
   "metadata": {},
   "source": [
    "## Random Forest Model"
   ]
  },
  {
   "cell_type": "code",
   "execution_count": 25,
   "metadata": {
    "collapsed": false,
    "deletable": true,
    "editable": true
   },
   "outputs": [],
   "source": [
    "# est: 85, md: 5, ml:1\n",
    "\n",
    "param_grid_1 = {'n_estimators': [100],\n",
    "              'max_depth': [5, 6, 7] }\n",
    "\n",
    "rf_1 = RandomForestClassifier(random_state=42, verbose=1, n_jobs=-1)\n",
    "\n",
    "#grid_rf_1 = ParameterGrid()\n",
    "grid_rf_1 = GridSearchCV(rf_1, param_grid=param_grid_1, cv=2)"
   ]
  },
  {
   "cell_type": "code",
   "execution_count": 80,
   "metadata": {
    "collapsed": true
   },
   "outputs": [],
   "source": [
    "# est: 85, md: 5, ml:1\n",
    "\n",
    "param_grid_2 = {'n_estimators': [10, 120, 200],\n",
    "              'max_depth': [6, 12, 20] }\n",
    "\n",
    "rf_2 = RandomForestClassifier(random_state=42, verbose=1, n_jobs=-1)\n",
    "\n",
    "#grid_rf_1 = ParameterGrid()\n",
    "grid_rf_2 = GridSearchCV(rf_2, param_grid=param_grid_2, cv=5)"
   ]
  },
  {
   "cell_type": "code",
   "execution_count": 26,
   "metadata": {
    "collapsed": false,
    "deletable": true,
    "editable": true
   },
   "outputs": [
    {
     "name": "stderr",
     "output_type": "stream",
     "text": [
      "[Parallel(n_jobs=-1)]: Done   2 tasks      | elapsed:    0.3s\n",
      "[Parallel(n_jobs=-1)]: Done 100 out of 100 | elapsed:    2.0s finished\n",
      "[Parallel(n_jobs=24)]: Done 100 out of 100 | elapsed:    0.1s finished\n",
      "[Parallel(n_jobs=24)]: Done 100 out of 100 | elapsed:    0.1s finished\n",
      "[Parallel(n_jobs=-1)]: Done   2 tasks      | elapsed:    0.2s\n",
      "[Parallel(n_jobs=-1)]: Done 100 out of 100 | elapsed:    2.0s finished\n",
      "[Parallel(n_jobs=24)]: Done   3 tasks      | elapsed:    0.0s\n",
      "[Parallel(n_jobs=24)]: Done 100 out of 100 | elapsed:    0.1s finished\n",
      "[Parallel(n_jobs=24)]: Done 100 out of 100 | elapsed:    0.1s finished\n",
      "[Parallel(n_jobs=-1)]: Done   2 tasks      | elapsed:    0.1s\n",
      "[Parallel(n_jobs=-1)]: Done  95 out of  95 | elapsed:    1.9s finished\n",
      "[Parallel(n_jobs=24)]: Done  95 out of  95 | elapsed:    0.1s finished\n",
      "[Parallel(n_jobs=24)]: Done  95 out of  95 | elapsed:    0.1s finished\n",
      "[Parallel(n_jobs=-1)]: Done   2 tasks      | elapsed:    0.2s\n",
      "[Parallel(n_jobs=-1)]: Done  95 out of  95 | elapsed:    1.9s finished\n",
      "[Parallel(n_jobs=24)]: Done  95 out of  95 | elapsed:    0.1s finished\n",
      "[Parallel(n_jobs=24)]: Done   8 tasks      | elapsed:    0.0s\n",
      "[Parallel(n_jobs=24)]: Done  95 out of  95 | elapsed:    0.1s finished\n",
      "[Parallel(n_jobs=-1)]: Done   2 tasks      | elapsed:    0.2s\n",
      "[Parallel(n_jobs=-1)]: Done 110 out of 110 | elapsed:    2.2s finished\n",
      "[Parallel(n_jobs=24)]: Done 110 out of 110 | elapsed:    0.2s finished\n",
      "[Parallel(n_jobs=24)]: Done   2 tasks      | elapsed:    0.0s\n",
      "[Parallel(n_jobs=24)]: Done 110 out of 110 | elapsed:    0.1s finished\n",
      "[Parallel(n_jobs=-1)]: Done   2 tasks      | elapsed:    0.1s\n",
      "[Parallel(n_jobs=-1)]: Done 110 out of 110 | elapsed:    2.2s finished\n",
      "[Parallel(n_jobs=24)]: Done 110 out of 110 | elapsed:    0.2s finished\n",
      "[Parallel(n_jobs=24)]: Done 110 out of 110 | elapsed:    0.2s finished\n",
      "[Parallel(n_jobs=-1)]: Done   2 tasks      | elapsed:    0.3s\n",
      "[Parallel(n_jobs=-1)]: Done 100 out of 100 | elapsed:    2.3s finished\n",
      "[Parallel(n_jobs=24)]: Done   3 tasks      | elapsed:    0.0s\n",
      "[Parallel(n_jobs=24)]: Done 100 out of 100 | elapsed:    0.1s finished\n",
      "[Parallel(n_jobs=24)]: Done 100 out of 100 | elapsed:    0.1s finished\n",
      "[Parallel(n_jobs=-1)]: Done   2 tasks      | elapsed:    0.1s\n",
      "[Parallel(n_jobs=-1)]: Done 100 out of 100 | elapsed:    2.3s finished\n",
      "[Parallel(n_jobs=24)]: Done 100 out of 100 | elapsed:    0.1s finished\n",
      "[Parallel(n_jobs=24)]: Done  15 tasks      | elapsed:    0.0s\n",
      "[Parallel(n_jobs=24)]: Done 100 out of 100 | elapsed:    0.1s finished\n",
      "[Parallel(n_jobs=-1)]: Done   2 tasks      | elapsed:    0.3s\n",
      "[Parallel(n_jobs=-1)]: Done  95 out of  95 | elapsed:    2.2s finished\n",
      "[Parallel(n_jobs=24)]: Done  95 out of  95 | elapsed:    0.1s finished\n",
      "[Parallel(n_jobs=24)]: Done  95 out of  95 | elapsed:    0.1s finished\n",
      "[Parallel(n_jobs=-1)]: Done   2 tasks      | elapsed:    0.3s\n",
      "[Parallel(n_jobs=-1)]: Done  95 out of  95 | elapsed:    2.2s finished\n",
      "[Parallel(n_jobs=24)]: Done  21 tasks      | elapsed:    0.0s\n",
      "[Parallel(n_jobs=24)]: Done  95 out of  95 | elapsed:    0.1s finished\n",
      "[Parallel(n_jobs=24)]: Done  95 out of  95 | elapsed:    0.1s finished\n",
      "[Parallel(n_jobs=-1)]: Done   2 tasks      | elapsed:    0.4s\n",
      "[Parallel(n_jobs=-1)]: Done 110 out of 110 | elapsed:    2.5s finished\n",
      "[Parallel(n_jobs=24)]: Done 110 out of 110 | elapsed:    0.2s finished\n",
      "[Parallel(n_jobs=24)]: Done   8 tasks      | elapsed:    0.0s\n",
      "[Parallel(n_jobs=24)]: Done 110 out of 110 | elapsed:    0.2s finished\n",
      "[Parallel(n_jobs=-1)]: Done   2 tasks      | elapsed:    0.3s\n",
      "[Parallel(n_jobs=-1)]: Done 110 out of 110 | elapsed:    2.6s finished\n",
      "[Parallel(n_jobs=24)]: Done  16 tasks      | elapsed:    0.0s\n",
      "[Parallel(n_jobs=24)]: Done 110 out of 110 | elapsed:    0.2s finished\n",
      "[Parallel(n_jobs=24)]: Done  12 tasks      | elapsed:    0.0s\n",
      "[Parallel(n_jobs=24)]: Done 110 out of 110 | elapsed:    0.2s finished\n",
      "[Parallel(n_jobs=-1)]: Done   2 tasks      | elapsed:    0.4s\n",
      "[Parallel(n_jobs=-1)]: Done 100 out of 100 | elapsed:    3.1s finished\n",
      "[Parallel(n_jobs=24)]: Done 100 out of 100 | elapsed:    0.2s finished\n",
      "[Parallel(n_jobs=24)]: Done 100 out of 100 | elapsed:    0.2s finished\n",
      "[Parallel(n_jobs=-1)]: Done   2 tasks      | elapsed:    0.2s\n",
      "[Parallel(n_jobs=-1)]: Done 100 out of 100 | elapsed:    3.1s finished\n",
      "[Parallel(n_jobs=24)]: Done  16 tasks      | elapsed:    0.0s\n",
      "[Parallel(n_jobs=24)]: Done 100 out of 100 | elapsed:    0.2s finished\n",
      "[Parallel(n_jobs=24)]: Done 100 out of 100 | elapsed:    0.2s finished\n",
      "[Parallel(n_jobs=-1)]: Done   2 tasks      | elapsed:    0.4s\n",
      "[Parallel(n_jobs=-1)]: Done  95 out of  95 | elapsed:    3.0s finished\n",
      "[Parallel(n_jobs=24)]: Done  95 out of  95 | elapsed:    0.2s finished\n",
      "[Parallel(n_jobs=24)]: Done  95 out of  95 | elapsed:    0.2s finished\n",
      "[Parallel(n_jobs=-1)]: Done   2 tasks      | elapsed:    0.4s\n",
      "[Parallel(n_jobs=-1)]: Done  95 out of  95 | elapsed:    3.1s finished\n",
      "[Parallel(n_jobs=24)]: Done   2 tasks      | elapsed:    0.0s\n",
      "[Parallel(n_jobs=24)]: Done  95 out of  95 | elapsed:    0.1s finished\n",
      "[Parallel(n_jobs=24)]: Done  95 out of  95 | elapsed:    0.2s finished\n",
      "[Parallel(n_jobs=-1)]: Done   2 tasks      | elapsed:    0.2s\n",
      "[Parallel(n_jobs=-1)]: Done 110 out of 110 | elapsed:    3.4s finished\n",
      "[Parallel(n_jobs=24)]: Done   2 tasks      | elapsed:    0.0s\n",
      "[Parallel(n_jobs=24)]: Done 110 out of 110 | elapsed:    0.2s finished\n",
      "[Parallel(n_jobs=24)]: Done  10 tasks      | elapsed:    0.0s\n",
      "[Parallel(n_jobs=24)]: Done 110 out of 110 | elapsed:    0.2s finished\n",
      "[Parallel(n_jobs=-1)]: Done   2 tasks      | elapsed:    0.2s\n",
      "[Parallel(n_jobs=-1)]: Done 110 out of 110 | elapsed:    3.5s finished\n",
      "[Parallel(n_jobs=24)]: Done 110 out of 110 | elapsed:    0.2s finished\n",
      "[Parallel(n_jobs=24)]: Done   2 tasks      | elapsed:    0.0s\n",
      "[Parallel(n_jobs=24)]: Done 110 out of 110 | elapsed:    0.2s finished\n",
      "[Parallel(n_jobs=-1)]: Done   2 tasks      | elapsed:    0.2s\n"
     ]
    },
    {
     "name": "stdout",
     "output_type": "stream",
     "text": [
      "{'n_estimators': 100, 'max_depth': 6}\n"
     ]
    },
    {
     "name": "stderr",
     "output_type": "stream",
     "text": [
      "[Parallel(n_jobs=-1)]: Done 100 out of 100 | elapsed:    4.4s finished\n"
     ]
    }
   ],
   "source": [
    "grid_rf_1.fit(x_train.values, y_train.values)\n",
    "print(grid_rf_1. best_params_)"
   ]
  },
  {
   "cell_type": "code",
   "execution_count": 81,
   "metadata": {
    "collapsed": false
   },
   "outputs": [
    {
     "name": "stderr",
     "output_type": "stream",
     "text": [
      "[Parallel(n_jobs=-1)]: Done   7 out of  10 | elapsed:    0.3s remaining:    0.1s\n",
      "[Parallel(n_jobs=-1)]: Done  10 out of  10 | elapsed:    0.3s finished\n",
      "[Parallel(n_jobs=10)]: Done   2 out of  10 | elapsed:    0.0s remaining:    0.0s\n",
      "[Parallel(n_jobs=10)]: Done  10 out of  10 | elapsed:    0.0s finished\n",
      "[Parallel(n_jobs=10)]: Done   2 out of  10 | elapsed:    0.0s remaining:    0.0s\n",
      "[Parallel(n_jobs=10)]: Done  10 out of  10 | elapsed:    0.0s finished\n",
      "[Parallel(n_jobs=-1)]: Done   7 out of  10 | elapsed:    0.3s remaining:    0.1s\n",
      "[Parallel(n_jobs=-1)]: Done  10 out of  10 | elapsed:    0.3s finished\n",
      "[Parallel(n_jobs=10)]: Done   2 out of  10 | elapsed:    0.0s remaining:    0.0s\n",
      "[Parallel(n_jobs=10)]: Done  10 out of  10 | elapsed:    0.0s finished\n",
      "[Parallel(n_jobs=10)]: Done   2 out of  10 | elapsed:    0.0s remaining:    0.0s\n",
      "[Parallel(n_jobs=10)]: Done  10 out of  10 | elapsed:    0.0s finished\n",
      "[Parallel(n_jobs=-1)]: Done   7 out of  10 | elapsed:    0.4s remaining:    0.2s\n",
      "[Parallel(n_jobs=-1)]: Done  10 out of  10 | elapsed:    0.4s finished\n",
      "[Parallel(n_jobs=10)]: Done   2 out of  10 | elapsed:    0.0s remaining:    0.0s\n",
      "[Parallel(n_jobs=10)]: Done  10 out of  10 | elapsed:    0.0s finished\n",
      "[Parallel(n_jobs=10)]: Done   2 out of  10 | elapsed:    0.0s remaining:    0.0s\n",
      "[Parallel(n_jobs=10)]: Done  10 out of  10 | elapsed:    0.0s finished\n",
      "[Parallel(n_jobs=-1)]: Done   7 out of  10 | elapsed:    0.3s remaining:    0.1s\n",
      "[Parallel(n_jobs=-1)]: Done  10 out of  10 | elapsed:    0.4s finished\n",
      "[Parallel(n_jobs=10)]: Done   2 out of  10 | elapsed:    0.0s remaining:    0.0s\n",
      "[Parallel(n_jobs=10)]: Done  10 out of  10 | elapsed:    0.0s finished\n",
      "[Parallel(n_jobs=10)]: Done   2 out of  10 | elapsed:    0.0s remaining:    0.0s\n",
      "[Parallel(n_jobs=10)]: Done  10 out of  10 | elapsed:    0.0s finished\n",
      "[Parallel(n_jobs=-1)]: Done   7 out of  10 | elapsed:    0.3s remaining:    0.1s\n",
      "[Parallel(n_jobs=-1)]: Done  10 out of  10 | elapsed:    0.4s finished\n",
      "[Parallel(n_jobs=10)]: Done   2 out of  10 | elapsed:    0.0s remaining:    0.0s\n",
      "[Parallel(n_jobs=10)]: Done  10 out of  10 | elapsed:    0.0s finished\n",
      "[Parallel(n_jobs=10)]: Done   2 out of  10 | elapsed:    0.0s remaining:    0.0s\n",
      "[Parallel(n_jobs=10)]: Done  10 out of  10 | elapsed:    0.0s finished\n",
      "[Parallel(n_jobs=-1)]: Done   2 tasks      | elapsed:    0.2s\n",
      "[Parallel(n_jobs=-1)]: Done 120 out of 120 | elapsed:    4.2s finished\n",
      "[Parallel(n_jobs=24)]: Done 120 out of 120 | elapsed:    0.1s finished\n",
      "[Parallel(n_jobs=24)]: Done   2 tasks      | elapsed:    0.0s\n",
      "[Parallel(n_jobs=24)]: Done 120 out of 120 | elapsed:    0.2s finished\n",
      "[Parallel(n_jobs=-1)]: Done   2 tasks      | elapsed:    0.4s\n",
      "[Parallel(n_jobs=-1)]: Done 120 out of 120 | elapsed:    4.2s finished\n",
      "[Parallel(n_jobs=24)]: Done 120 out of 120 | elapsed:    0.1s finished\n",
      "[Parallel(n_jobs=24)]: Done  14 tasks      | elapsed:    0.1s\n",
      "[Parallel(n_jobs=24)]: Done 120 out of 120 | elapsed:    0.2s finished\n",
      "[Parallel(n_jobs=-1)]: Done   2 tasks      | elapsed:    0.2s\n",
      "[Parallel(n_jobs=-1)]: Done 120 out of 120 | elapsed:    4.2s finished\n",
      "[Parallel(n_jobs=24)]: Done 120 out of 120 | elapsed:    0.1s finished\n",
      "[Parallel(n_jobs=24)]: Done 120 out of 120 | elapsed:    0.2s finished\n",
      "[Parallel(n_jobs=-1)]: Done   2 tasks      | elapsed:    0.2s\n",
      "[Parallel(n_jobs=-1)]: Done 120 out of 120 | elapsed:    4.1s finished\n",
      "[Parallel(n_jobs=24)]: Done 120 out of 120 | elapsed:    0.1s finished\n",
      "[Parallel(n_jobs=24)]: Done   2 tasks      | elapsed:    0.0s\n",
      "[Parallel(n_jobs=24)]: Done 120 out of 120 | elapsed:    0.2s finished\n",
      "[Parallel(n_jobs=-1)]: Done   2 tasks      | elapsed:    0.2s\n",
      "[Parallel(n_jobs=-1)]: Done 120 out of 120 | elapsed:    4.2s finished\n",
      "[Parallel(n_jobs=24)]: Done 120 out of 120 | elapsed:    0.1s finished\n",
      "[Parallel(n_jobs=24)]: Done   2 tasks      | elapsed:    0.0s\n",
      "[Parallel(n_jobs=24)]: Done 120 out of 120 | elapsed:    0.2s finished\n",
      "[Parallel(n_jobs=-1)]: Done   2 tasks      | elapsed:    0.6s\n",
      "[Parallel(n_jobs=-1)]: Done 152 tasks      | elapsed:    5.8s\n",
      "[Parallel(n_jobs=-1)]: Done 200 out of 200 | elapsed:    7.0s finished\n",
      "[Parallel(n_jobs=24)]: Done 152 tasks      | elapsed:    0.2s\n",
      "[Parallel(n_jobs=24)]: Done 200 out of 200 | elapsed:    0.2s finished\n",
      "[Parallel(n_jobs=24)]: Done   2 tasks      | elapsed:    0.0s\n",
      "[Parallel(n_jobs=24)]: Done 152 tasks      | elapsed:    0.3s\n",
      "[Parallel(n_jobs=24)]: Done 200 out of 200 | elapsed:    0.4s finished\n",
      "[Parallel(n_jobs=-1)]: Done   2 tasks      | elapsed:    0.2s\n",
      "[Parallel(n_jobs=-1)]: Done 152 tasks      | elapsed:    5.7s\n",
      "[Parallel(n_jobs=-1)]: Done 200 out of 200 | elapsed:    6.9s finished\n",
      "[Parallel(n_jobs=24)]: Done 152 tasks      | elapsed:    0.2s\n",
      "[Parallel(n_jobs=24)]: Done 200 out of 200 | elapsed:    0.2s finished\n",
      "[Parallel(n_jobs=24)]: Done   2 tasks      | elapsed:    0.0s\n",
      "[Parallel(n_jobs=24)]: Done 152 tasks      | elapsed:    0.3s\n",
      "[Parallel(n_jobs=24)]: Done 200 out of 200 | elapsed:    0.4s finished\n",
      "[Parallel(n_jobs=-1)]: Done   2 tasks      | elapsed:    0.2s\n",
      "[Parallel(n_jobs=-1)]: Done 152 tasks      | elapsed:    5.5s\n",
      "[Parallel(n_jobs=-1)]: Done 200 out of 200 | elapsed:    6.9s finished\n",
      "[Parallel(n_jobs=24)]: Done 152 tasks      | elapsed:    0.2s\n",
      "[Parallel(n_jobs=24)]: Done 200 out of 200 | elapsed:    0.2s finished\n",
      "[Parallel(n_jobs=24)]: Done   2 tasks      | elapsed:    0.0s\n",
      "[Parallel(n_jobs=24)]: Done 152 tasks      | elapsed:    0.3s\n",
      "[Parallel(n_jobs=24)]: Done 200 out of 200 | elapsed:    0.3s finished\n",
      "[Parallel(n_jobs=-1)]: Done   2 tasks      | elapsed:    0.2s\n",
      "[Parallel(n_jobs=-1)]: Done 152 tasks      | elapsed:    5.7s\n",
      "[Parallel(n_jobs=-1)]: Done 200 out of 200 | elapsed:    7.0s finished\n",
      "[Parallel(n_jobs=24)]: Done 152 tasks      | elapsed:    0.2s\n",
      "[Parallel(n_jobs=24)]: Done 200 out of 200 | elapsed:    0.2s finished\n",
      "[Parallel(n_jobs=24)]: Done   2 tasks      | elapsed:    0.0s\n",
      "[Parallel(n_jobs=24)]: Done 152 tasks      | elapsed:    0.3s\n",
      "[Parallel(n_jobs=24)]: Done 200 out of 200 | elapsed:    0.4s finished\n",
      "[Parallel(n_jobs=-1)]: Done   2 tasks      | elapsed:    0.2s\n",
      "[Parallel(n_jobs=-1)]: Done 152 tasks      | elapsed:    5.7s\n",
      "[Parallel(n_jobs=-1)]: Done 200 out of 200 | elapsed:    7.0s finished\n",
      "[Parallel(n_jobs=24)]: Done 152 tasks      | elapsed:    0.2s\n",
      "[Parallel(n_jobs=24)]: Done 200 out of 200 | elapsed:    0.2s finished\n",
      "[Parallel(n_jobs=24)]: Done  10 tasks      | elapsed:    0.1s\n",
      "[Parallel(n_jobs=24)]: Done 152 tasks      | elapsed:    0.3s\n",
      "[Parallel(n_jobs=24)]: Done 200 out of 200 | elapsed:    0.4s finished\n",
      "[Parallel(n_jobs=-1)]: Done   7 out of  10 | elapsed:    0.6s remaining:    0.3s\n",
      "[Parallel(n_jobs=-1)]: Done  10 out of  10 | elapsed:    0.6s finished\n",
      "[Parallel(n_jobs=10)]: Done   2 out of  10 | elapsed:    0.0s remaining:    0.0s\n",
      "[Parallel(n_jobs=10)]: Done  10 out of  10 | elapsed:    0.0s finished\n",
      "[Parallel(n_jobs=10)]: Done   2 out of  10 | elapsed:    0.0s remaining:    0.0s\n",
      "[Parallel(n_jobs=10)]: Done  10 out of  10 | elapsed:    0.0s finished\n",
      "[Parallel(n_jobs=-1)]: Done   7 out of  10 | elapsed:    0.6s remaining:    0.2s\n",
      "[Parallel(n_jobs=-1)]: Done  10 out of  10 | elapsed:    0.6s finished\n",
      "[Parallel(n_jobs=10)]: Done   2 out of  10 | elapsed:    0.0s remaining:    0.0s\n",
      "[Parallel(n_jobs=10)]: Done  10 out of  10 | elapsed:    0.0s finished\n",
      "[Parallel(n_jobs=10)]: Done   2 out of  10 | elapsed:    0.0s remaining:    0.0s\n",
      "[Parallel(n_jobs=10)]: Done  10 out of  10 | elapsed:    0.0s finished\n",
      "[Parallel(n_jobs=-1)]: Done   7 out of  10 | elapsed:    0.6s remaining:    0.2s\n",
      "[Parallel(n_jobs=-1)]: Done  10 out of  10 | elapsed:    0.6s finished\n",
      "[Parallel(n_jobs=10)]: Done   2 out of  10 | elapsed:    0.0s remaining:    0.0s\n",
      "[Parallel(n_jobs=10)]: Done  10 out of  10 | elapsed:    0.0s finished\n",
      "[Parallel(n_jobs=10)]: Done  10 out of  10 | elapsed:    0.0s finished\n",
      "[Parallel(n_jobs=-1)]: Done   7 out of  10 | elapsed:    0.5s remaining:    0.2s\n",
      "[Parallel(n_jobs=-1)]: Done  10 out of  10 | elapsed:    0.7s finished\n",
      "[Parallel(n_jobs=10)]: Done   2 out of  10 | elapsed:    0.0s remaining:    0.0s\n",
      "[Parallel(n_jobs=10)]: Done  10 out of  10 | elapsed:    0.0s finished\n",
      "[Parallel(n_jobs=10)]: Done   2 out of  10 | elapsed:    0.0s remaining:    0.0s\n",
      "[Parallel(n_jobs=10)]: Done  10 out of  10 | elapsed:    0.0s finished\n",
      "[Parallel(n_jobs=-1)]: Done   7 out of  10 | elapsed:    0.6s remaining:    0.2s\n",
      "[Parallel(n_jobs=-1)]: Done  10 out of  10 | elapsed:    0.6s finished\n",
      "[Parallel(n_jobs=10)]: Done   2 out of  10 | elapsed:    0.0s remaining:    0.0s\n",
      "[Parallel(n_jobs=10)]: Done  10 out of  10 | elapsed:    0.0s finished\n",
      "[Parallel(n_jobs=10)]: Done   2 out of  10 | elapsed:    0.0s remaining:    0.0s\n",
      "[Parallel(n_jobs=10)]: Done  10 out of  10 | elapsed:    0.0s finished\n",
      "[Parallel(n_jobs=-1)]: Done   2 tasks      | elapsed:    0.4s\n",
      "[Parallel(n_jobs=-1)]: Done 120 out of 120 | elapsed:    7.5s finished\n",
      "[Parallel(n_jobs=24)]: Done 120 out of 120 | elapsed:    0.1s finished\n",
      "[Parallel(n_jobs=24)]: Done   2 tasks      | elapsed:    0.0s\n",
      "[Parallel(n_jobs=24)]: Done 120 out of 120 | elapsed:    0.3s finished\n",
      "[Parallel(n_jobs=-1)]: Done   2 tasks      | elapsed:    0.4s\n",
      "[Parallel(n_jobs=-1)]: Done 120 out of 120 | elapsed:    7.4s finished\n",
      "[Parallel(n_jobs=24)]: Done   7 tasks      | elapsed:    0.0s\n",
      "[Parallel(n_jobs=24)]: Done 120 out of 120 | elapsed:    0.1s finished\n",
      "[Parallel(n_jobs=24)]: Done 120 out of 120 | elapsed:    0.3s finished\n",
      "[Parallel(n_jobs=-1)]: Done   2 tasks      | elapsed:    0.4s\n",
      "[Parallel(n_jobs=-1)]: Done 120 out of 120 | elapsed:    7.5s finished\n",
      "[Parallel(n_jobs=24)]: Done   5 tasks      | elapsed:    0.0s\n",
      "[Parallel(n_jobs=24)]: Done 120 out of 120 | elapsed:    0.1s finished\n",
      "[Parallel(n_jobs=24)]: Done   2 tasks      | elapsed:    0.0s\n",
      "[Parallel(n_jobs=24)]: Done 120 out of 120 | elapsed:    0.3s finished\n",
      "[Parallel(n_jobs=-1)]: Done   2 tasks      | elapsed:    0.8s\n",
      "[Parallel(n_jobs=-1)]: Done 120 out of 120 | elapsed:    7.6s finished\n",
      "[Parallel(n_jobs=24)]: Done   2 tasks      | elapsed:    0.0s\n",
      "[Parallel(n_jobs=24)]: Done 120 out of 120 | elapsed:    0.1s finished\n",
      "[Parallel(n_jobs=24)]: Done 120 out of 120 | elapsed:    0.3s finished\n",
      "[Parallel(n_jobs=-1)]: Done   2 tasks      | elapsed:    0.7s\n",
      "[Parallel(n_jobs=-1)]: Done 120 out of 120 | elapsed:    7.6s finished\n",
      "[Parallel(n_jobs=24)]: Done 120 out of 120 | elapsed:    0.1s finished\n",
      "[Parallel(n_jobs=24)]: Done   2 tasks      | elapsed:    0.0s\n",
      "[Parallel(n_jobs=24)]: Done 120 out of 120 | elapsed:    0.3s finished\n",
      "[Parallel(n_jobs=-1)]: Done   2 tasks      | elapsed:    0.8s\n",
      "[Parallel(n_jobs=-1)]: Done 152 tasks      | elapsed:   10.5s\n",
      "[Parallel(n_jobs=-1)]: Done 200 out of 200 | elapsed:   12.6s finished\n",
      "[Parallel(n_jobs=24)]: Done 152 tasks      | elapsed:    0.2s\n",
      "[Parallel(n_jobs=24)]: Done 200 out of 200 | elapsed:    0.2s finished\n",
      "[Parallel(n_jobs=24)]: Done   4 tasks      | elapsed:    0.0s\n",
      "[Parallel(n_jobs=24)]: Done 152 tasks      | elapsed:    0.3s\n",
      "[Parallel(n_jobs=24)]: Done 200 out of 200 | elapsed:    0.4s finished\n",
      "[Parallel(n_jobs=-1)]: Done   2 tasks      | elapsed:    0.7s\n",
      "[Parallel(n_jobs=-1)]: Done 152 tasks      | elapsed:   10.2s\n",
      "[Parallel(n_jobs=-1)]: Done 200 out of 200 | elapsed:   12.4s finished\n",
      "[Parallel(n_jobs=24)]: Done 152 tasks      | elapsed:    0.2s\n",
      "[Parallel(n_jobs=24)]: Done 200 out of 200 | elapsed:    0.2s finished\n",
      "[Parallel(n_jobs=24)]: Done 152 tasks      | elapsed:    0.3s\n",
      "[Parallel(n_jobs=24)]: Done 200 out of 200 | elapsed:    0.5s finished\n",
      "[Parallel(n_jobs=-1)]: Done   2 tasks      | elapsed:    0.5s\n",
      "[Parallel(n_jobs=-1)]: Done 152 tasks      | elapsed:   10.2s\n",
      "[Parallel(n_jobs=-1)]: Done 200 out of 200 | elapsed:   12.7s finished\n",
      "[Parallel(n_jobs=24)]: Done  11 tasks      | elapsed:    0.0s\n",
      "[Parallel(n_jobs=24)]: Done 152 tasks      | elapsed:    0.2s\n",
      "[Parallel(n_jobs=24)]: Done 200 out of 200 | elapsed:    0.2s finished\n",
      "[Parallel(n_jobs=24)]: Done 152 tasks      | elapsed:    0.3s\n",
      "[Parallel(n_jobs=24)]: Done 200 out of 200 | elapsed:    0.4s finished\n",
      "[Parallel(n_jobs=-1)]: Done   2 tasks      | elapsed:    0.7s\n",
      "[Parallel(n_jobs=-1)]: Done 152 tasks      | elapsed:   10.3s\n",
      "[Parallel(n_jobs=-1)]: Done 200 out of 200 | elapsed:   12.5s finished\n",
      "[Parallel(n_jobs=24)]: Done   8 tasks      | elapsed:    0.0s\n",
      "[Parallel(n_jobs=24)]: Done 152 tasks      | elapsed:    0.2s\n",
      "[Parallel(n_jobs=24)]: Done 200 out of 200 | elapsed:    0.2s finished\n",
      "[Parallel(n_jobs=24)]: Done   2 tasks      | elapsed:    0.0s\n",
      "[Parallel(n_jobs=24)]: Done 152 tasks      | elapsed:    0.3s\n",
      "[Parallel(n_jobs=24)]: Done 200 out of 200 | elapsed:    0.5s finished\n",
      "[Parallel(n_jobs=-1)]: Done   2 tasks      | elapsed:    0.7s\n",
      "[Parallel(n_jobs=-1)]: Done 152 tasks      | elapsed:   10.3s\n",
      "[Parallel(n_jobs=-1)]: Done 200 out of 200 | elapsed:   12.7s finished\n",
      "[Parallel(n_jobs=24)]: Done 152 tasks      | elapsed:    0.2s\n",
      "[Parallel(n_jobs=24)]: Done 200 out of 200 | elapsed:    0.2s finished\n",
      "[Parallel(n_jobs=24)]: Done 152 tasks      | elapsed:    0.3s\n",
      "[Parallel(n_jobs=24)]: Done 200 out of 200 | elapsed:    0.4s finished\n",
      "[Parallel(n_jobs=-1)]: Done   7 out of  10 | elapsed:    0.9s remaining:    0.4s\n",
      "[Parallel(n_jobs=-1)]: Done  10 out of  10 | elapsed:    0.9s finished\n",
      "[Parallel(n_jobs=10)]: Done   2 out of  10 | elapsed:    0.0s remaining:    0.0s\n",
      "[Parallel(n_jobs=10)]: Done  10 out of  10 | elapsed:    0.0s finished\n",
      "[Parallel(n_jobs=10)]: Done   2 out of  10 | elapsed:    0.0s remaining:    0.1s\n",
      "[Parallel(n_jobs=10)]: Done  10 out of  10 | elapsed:    0.0s finished\n",
      "[Parallel(n_jobs=-1)]: Done   7 out of  10 | elapsed:    0.9s remaining:    0.4s\n",
      "[Parallel(n_jobs=-1)]: Done  10 out of  10 | elapsed:    0.9s finished\n",
      "[Parallel(n_jobs=10)]: Done   2 out of  10 | elapsed:    0.0s remaining:    0.0s\n",
      "[Parallel(n_jobs=10)]: Done  10 out of  10 | elapsed:    0.0s finished\n",
      "[Parallel(n_jobs=10)]: Done   2 out of  10 | elapsed:    0.0s remaining:    0.1s\n",
      "[Parallel(n_jobs=10)]: Done  10 out of  10 | elapsed:    0.0s finished\n",
      "[Parallel(n_jobs=-1)]: Done   7 out of  10 | elapsed:    0.9s remaining:    0.4s\n",
      "[Parallel(n_jobs=-1)]: Done  10 out of  10 | elapsed:    0.9s finished\n",
      "[Parallel(n_jobs=10)]: Done   2 out of  10 | elapsed:    0.0s remaining:    0.0s\n",
      "[Parallel(n_jobs=10)]: Done  10 out of  10 | elapsed:    0.0s finished\n",
      "[Parallel(n_jobs=10)]: Done   2 out of  10 | elapsed:    0.0s remaining:    0.1s\n",
      "[Parallel(n_jobs=10)]: Done  10 out of  10 | elapsed:    0.0s finished\n",
      "[Parallel(n_jobs=-1)]: Done   7 out of  10 | elapsed:    0.9s remaining:    0.4s\n",
      "[Parallel(n_jobs=-1)]: Done  10 out of  10 | elapsed:    0.9s finished\n",
      "[Parallel(n_jobs=10)]: Done   2 out of  10 | elapsed:    0.0s remaining:    0.0s\n",
      "[Parallel(n_jobs=10)]: Done  10 out of  10 | elapsed:    0.0s finished\n",
      "[Parallel(n_jobs=10)]: Done   2 out of  10 | elapsed:    0.0s remaining:    0.1s\n",
      "[Parallel(n_jobs=10)]: Done  10 out of  10 | elapsed:    0.0s finished\n",
      "[Parallel(n_jobs=-1)]: Done   7 out of  10 | elapsed:    0.8s remaining:    0.4s\n",
      "[Parallel(n_jobs=-1)]: Done  10 out of  10 | elapsed:    1.0s finished\n",
      "[Parallel(n_jobs=10)]: Done   2 out of  10 | elapsed:    0.0s remaining:    0.0s\n",
      "[Parallel(n_jobs=10)]: Done  10 out of  10 | elapsed:    0.0s finished\n",
      "[Parallel(n_jobs=10)]: Done   2 out of  10 | elapsed:    0.0s remaining:    0.1s\n",
      "[Parallel(n_jobs=10)]: Done  10 out of  10 | elapsed:    0.0s finished\n",
      "[Parallel(n_jobs=-1)]: Done   2 tasks      | elapsed:    1.4s\n",
      "[Parallel(n_jobs=-1)]: Done 120 out of 120 | elapsed:   11.2s finished\n",
      "[Parallel(n_jobs=24)]: Done   7 tasks      | elapsed:    0.0s\n",
      "[Parallel(n_jobs=24)]: Done 120 out of 120 | elapsed:    0.2s finished\n",
      "[Parallel(n_jobs=24)]: Done 120 out of 120 | elapsed:    0.4s finished\n",
      "[Parallel(n_jobs=-1)]: Done   2 tasks      | elapsed:    1.0s\n",
      "[Parallel(n_jobs=-1)]: Done 120 out of 120 | elapsed:   10.9s finished\n",
      "[Parallel(n_jobs=24)]: Done   2 tasks      | elapsed:    0.0s\n",
      "[Parallel(n_jobs=24)]: Done 120 out of 120 | elapsed:    0.2s finished\n",
      "[Parallel(n_jobs=24)]: Done   2 tasks      | elapsed:    0.0s\n",
      "[Parallel(n_jobs=24)]: Done 120 out of 120 | elapsed:    0.4s finished\n",
      "[Parallel(n_jobs=-1)]: Done   2 tasks      | elapsed:    1.0s\n",
      "[Parallel(n_jobs=-1)]: Done 120 out of 120 | elapsed:   11.2s finished\n",
      "[Parallel(n_jobs=24)]: Done   2 tasks      | elapsed:    0.0s\n",
      "[Parallel(n_jobs=24)]: Done 120 out of 120 | elapsed:    0.2s finished\n",
      "[Parallel(n_jobs=24)]: Done   5 tasks      | elapsed:    0.0s\n",
      "[Parallel(n_jobs=24)]: Done 120 out of 120 | elapsed:    0.4s finished\n",
      "[Parallel(n_jobs=-1)]: Done   2 tasks      | elapsed:    1.1s\n",
      "[Parallel(n_jobs=-1)]: Done 120 out of 120 | elapsed:   10.9s finished\n",
      "[Parallel(n_jobs=24)]: Done   9 tasks      | elapsed:    0.0s\n",
      "[Parallel(n_jobs=24)]: Done 120 out of 120 | elapsed:    0.2s finished\n",
      "[Parallel(n_jobs=24)]: Done 120 out of 120 | elapsed:    0.4s finished\n",
      "[Parallel(n_jobs=-1)]: Done   2 tasks      | elapsed:    1.1s\n",
      "[Parallel(n_jobs=-1)]: Done 120 out of 120 | elapsed:   11.2s finished\n",
      "[Parallel(n_jobs=24)]: Done 120 out of 120 | elapsed:    0.2s finished\n",
      "[Parallel(n_jobs=24)]: Done   2 tasks      | elapsed:    0.0s\n",
      "[Parallel(n_jobs=24)]: Done 120 out of 120 | elapsed:    0.4s finished\n",
      "[Parallel(n_jobs=-1)]: Done   2 tasks      | elapsed:    1.1s\n",
      "[Parallel(n_jobs=-1)]: Done 152 tasks      | elapsed:   15.2s\n",
      "[Parallel(n_jobs=-1)]: Done 200 out of 200 | elapsed:   18.4s finished\n",
      "[Parallel(n_jobs=24)]: Done 152 tasks      | elapsed:    0.2s\n",
      "[Parallel(n_jobs=24)]: Done 200 out of 200 | elapsed:    0.3s finished\n",
      "[Parallel(n_jobs=24)]: Done   8 tasks      | elapsed:    0.0s\n",
      "[Parallel(n_jobs=24)]: Done 152 tasks      | elapsed:    0.5s\n",
      "[Parallel(n_jobs=24)]: Done 200 out of 200 | elapsed:    0.6s finished\n",
      "[Parallel(n_jobs=-1)]: Done   2 tasks      | elapsed:    1.0s\n",
      "[Parallel(n_jobs=-1)]: Done 152 tasks      | elapsed:   14.6s\n",
      "[Parallel(n_jobs=-1)]: Done 200 out of 200 | elapsed:   18.1s finished\n",
      "[Parallel(n_jobs=24)]: Done   2 tasks      | elapsed:    0.0s\n",
      "[Parallel(n_jobs=24)]: Done 152 tasks      | elapsed:    0.2s\n",
      "[Parallel(n_jobs=24)]: Done 200 out of 200 | elapsed:    0.3s finished\n",
      "[Parallel(n_jobs=24)]: Done   2 tasks      | elapsed:    0.1s\n",
      "[Parallel(n_jobs=24)]: Done 152 tasks      | elapsed:    0.5s\n",
      "[Parallel(n_jobs=24)]: Done 200 out of 200 | elapsed:    0.6s finished\n",
      "[Parallel(n_jobs=-1)]: Done   2 tasks      | elapsed:    1.1s\n",
      "[Parallel(n_jobs=-1)]: Done 152 tasks      | elapsed:   15.5s\n",
      "[Parallel(n_jobs=-1)]: Done 200 out of 200 | elapsed:   18.7s finished\n",
      "[Parallel(n_jobs=24)]: Done   2 tasks      | elapsed:    0.0s\n",
      "[Parallel(n_jobs=24)]: Done 152 tasks      | elapsed:    0.2s\n",
      "[Parallel(n_jobs=24)]: Done 200 out of 200 | elapsed:    0.3s finished\n",
      "[Parallel(n_jobs=24)]: Done   2 tasks      | elapsed:    0.0s\n",
      "[Parallel(n_jobs=24)]: Done 152 tasks      | elapsed:    0.5s\n",
      "[Parallel(n_jobs=24)]: Done 200 out of 200 | elapsed:    0.6s finished\n",
      "[Parallel(n_jobs=-1)]: Done   2 tasks      | elapsed:    1.2s\n",
      "[Parallel(n_jobs=-1)]: Done 152 tasks      | elapsed:   14.7s\n",
      "[Parallel(n_jobs=-1)]: Done 200 out of 200 | elapsed:   18.3s finished\n",
      "[Parallel(n_jobs=24)]: Done  12 tasks      | elapsed:    0.0s\n",
      "[Parallel(n_jobs=24)]: Done 152 tasks      | elapsed:    0.2s\n",
      "[Parallel(n_jobs=24)]: Done 200 out of 200 | elapsed:    0.3s finished\n",
      "[Parallel(n_jobs=24)]: Done 152 tasks      | elapsed:    0.5s\n",
      "[Parallel(n_jobs=24)]: Done 200 out of 200 | elapsed:    0.6s finished\n",
      "[Parallel(n_jobs=-1)]: Done   2 tasks      | elapsed:    1.1s\n",
      "[Parallel(n_jobs=-1)]: Done 152 tasks      | elapsed:   14.9s\n",
      "[Parallel(n_jobs=-1)]: Done 200 out of 200 | elapsed:   18.7s finished\n",
      "[Parallel(n_jobs=24)]: Done   2 tasks      | elapsed:    0.0s\n",
      "[Parallel(n_jobs=24)]: Done 152 tasks      | elapsed:    0.2s\n",
      "[Parallel(n_jobs=24)]: Done 200 out of 200 | elapsed:    0.3s finished\n",
      "[Parallel(n_jobs=24)]: Done   2 tasks      | elapsed:    0.0s\n",
      "[Parallel(n_jobs=24)]: Done 152 tasks      | elapsed:    0.5s\n",
      "[Parallel(n_jobs=24)]: Done 200 out of 200 | elapsed:    0.6s finished\n",
      "[Parallel(n_jobs=-1)]: Done   2 tasks      | elapsed:    1.0s\n",
      "[Parallel(n_jobs=-1)]: Done 152 tasks      | elapsed:   12.9s\n"
     ]
    },
    {
     "name": "stdout",
     "output_type": "stream",
     "text": [
      "{'n_estimators': 200, 'max_depth': 12}\n"
     ]
    },
    {
     "name": "stderr",
     "output_type": "stream",
     "text": [
      "[Parallel(n_jobs=-1)]: Done 200 out of 200 | elapsed:   16.1s finished\n"
     ]
    }
   ],
   "source": [
    "grid_rf_2.fit(x_train.values, y_train.values)\n",
    "print(grid_rf_2. best_params_)"
   ]
  },
  {
   "cell_type": "code",
   "execution_count": 27,
   "metadata": {
    "collapsed": false
   },
   "outputs": [
    {
     "data": {
      "text/plain": [
       "0.6931471805599453"
      ]
     },
     "execution_count": 27,
     "metadata": {},
     "output_type": "execute_result"
    }
   ],
   "source": [
    "-log(.5)"
   ]
  },
  {
   "cell_type": "code",
   "execution_count": 83,
   "metadata": {
    "collapsed": false,
    "scrolled": true
   },
   "outputs": [
    {
     "name": "stderr",
     "output_type": "stream",
     "text": [
      "[Parallel(n_jobs=24)]: Done 152 tasks      | elapsed:    0.2s\n",
      "[Parallel(n_jobs=24)]: Done 200 out of 200 | elapsed:    0.2s finished\n"
     ]
    },
    {
     "name": "stdout",
     "output_type": "stream",
     "text": [
      "Logloss: 0.69312914851\n"
     ]
    },
    {
     "name": "stderr",
     "output_type": "stream",
     "text": [
      "[Parallel(n_jobs=24)]: Done 152 tasks      | elapsed:    0.1s\n",
      "[Parallel(n_jobs=24)]: Done 200 out of 200 | elapsed:    0.2s finished\n"
     ]
    },
    {
     "name": "stdout",
     "output_type": "stream",
     "text": [
      "0.691979078755\n"
     ]
    },
    {
     "name": "stderr",
     "output_type": "stream",
     "text": [
      "[Parallel(n_jobs=24)]: Done 152 tasks      | elapsed:    0.1s\n",
      "[Parallel(n_jobs=24)]: Done 200 out of 200 | elapsed:    0.2s finished\n"
     ]
    },
    {
     "name": "stdout",
     "output_type": "stream",
     "text": [
      "0.693705498676\n"
     ]
    },
    {
     "name": "stderr",
     "output_type": "stream",
     "text": [
      "[Parallel(n_jobs=24)]: Done 152 tasks      | elapsed:    0.1s\n",
      "[Parallel(n_jobs=24)]: Done 200 out of 200 | elapsed:    0.2s finished\n"
     ]
    },
    {
     "name": "stdout",
     "output_type": "stream",
     "text": [
      "0.693765819997\n"
     ]
    },
    {
     "name": "stderr",
     "output_type": "stream",
     "text": [
      "[Parallel(n_jobs=24)]: Done 152 tasks      | elapsed:    0.1s\n",
      "[Parallel(n_jobs=24)]: Done 200 out of 200 | elapsed:    0.2s finished\n"
     ]
    },
    {
     "name": "stdout",
     "output_type": "stream",
     "text": [
      "0.692900223006\n"
     ]
    },
    {
     "name": "stderr",
     "output_type": "stream",
     "text": [
      "[Parallel(n_jobs=24)]: Done 152 tasks      | elapsed:    0.1s\n",
      "[Parallel(n_jobs=24)]: Done 200 out of 200 | elapsed:    0.2s finished\n"
     ]
    },
    {
     "name": "stdout",
     "output_type": "stream",
     "text": [
      "0.693902010011\n"
     ]
    },
    {
     "name": "stderr",
     "output_type": "stream",
     "text": [
      "[Parallel(n_jobs=24)]: Done 152 tasks      | elapsed:    0.1s\n",
      "[Parallel(n_jobs=24)]: Done 200 out of 200 | elapsed:    0.2s finished\n"
     ]
    },
    {
     "name": "stdout",
     "output_type": "stream",
     "text": [
      "0.692310153744\n"
     ]
    },
    {
     "name": "stderr",
     "output_type": "stream",
     "text": [
      "[Parallel(n_jobs=24)]: Done 152 tasks      | elapsed:    0.1s\n",
      "[Parallel(n_jobs=24)]: Done 200 out of 200 | elapsed:    0.2s finished\n"
     ]
    },
    {
     "name": "stdout",
     "output_type": "stream",
     "text": [
      "0.69586554289\n"
     ]
    },
    {
     "name": "stderr",
     "output_type": "stream",
     "text": [
      "[Parallel(n_jobs=24)]: Done 152 tasks      | elapsed:    0.1s\n",
      "[Parallel(n_jobs=24)]: Done 200 out of 200 | elapsed:    0.2s finished\n"
     ]
    },
    {
     "name": "stdout",
     "output_type": "stream",
     "text": [
      "0.69518161862\n"
     ]
    },
    {
     "name": "stderr",
     "output_type": "stream",
     "text": [
      "[Parallel(n_jobs=24)]: Done 152 tasks      | elapsed:    0.1s\n",
      "[Parallel(n_jobs=24)]: Done 200 out of 200 | elapsed:    0.2s finished\n"
     ]
    },
    {
     "name": "stdout",
     "output_type": "stream",
     "text": [
      "0.691801856541\n"
     ]
    },
    {
     "name": "stderr",
     "output_type": "stream",
     "text": [
      "[Parallel(n_jobs=24)]: Done 152 tasks      | elapsed:    0.1s\n",
      "[Parallel(n_jobs=24)]: Done 200 out of 200 | elapsed:    0.2s finished\n"
     ]
    },
    {
     "name": "stdout",
     "output_type": "stream",
     "text": [
      "0.690626149927\n"
     ]
    },
    {
     "name": "stderr",
     "output_type": "stream",
     "text": [
      "[Parallel(n_jobs=24)]: Done 152 tasks      | elapsed:    0.1s\n",
      "[Parallel(n_jobs=24)]: Done 200 out of 200 | elapsed:    0.2s finished\n",
      "[Parallel(n_jobs=24)]: Done   8 tasks      | elapsed:    0.0s\n"
     ]
    },
    {
     "name": "stdout",
     "output_type": "stream",
     "text": [
      "0.691994542269\n",
      "0.69338083111\n",
      "0.5\n"
     ]
    },
    {
     "name": "stderr",
     "output_type": "stream",
     "text": [
      "[Parallel(n_jobs=24)]: Done 152 tasks      | elapsed:    0.1s\n",
      "[Parallel(n_jobs=24)]: Done 200 out of 200 | elapsed:    0.2s finished\n"
     ]
    }
   ],
   "source": [
    "score_sk_model(grid_rf_2.best_estimator_, x_val.values, y_val, val_eras)"
   ]
  },
  {
   "cell_type": "code",
   "execution_count": 82,
   "metadata": {
    "collapsed": false
   },
   "outputs": [],
   "source": [
    "rf_1 = grid_rf_1.best_estimator_\n",
    "rf_2 = grid_rf_2.best_estimator_"
   ]
  },
  {
   "cell_type": "markdown",
   "metadata": {},
   "source": [
    "## SGD Classifier"
   ]
  },
  {
   "cell_type": "code",
   "execution_count": 75,
   "metadata": {
    "collapsed": false
   },
   "outputs": [],
   "source": [
    "grid_1 = {  }\n",
    "\n",
    "sgd_1 = SGDClassifier(random_state=42, verbose=0, n_jobs=-1, loss='log', learning_rate='optimal')\n",
    "\n",
    "grid_sgd_1 = GridSearchCV(sgd_1, param_grid=grid_1, cv=6)"
   ]
  },
  {
   "cell_type": "code",
   "execution_count": 76,
   "metadata": {
    "collapsed": false
   },
   "outputs": [
    {
     "name": "stdout",
     "output_type": "stream",
     "text": [
      "{}\n"
     ]
    }
   ],
   "source": [
    "grid_sgd_1.fit(x_train_scale, y_train.values)\n",
    "print(grid_sgd_1. best_params_)"
   ]
  },
  {
   "cell_type": "code",
   "execution_count": 77,
   "metadata": {
    "collapsed": true
   },
   "outputs": [],
   "source": [
    "sgd = grid_sgd_1.best_estimator_"
   ]
  },
  {
   "cell_type": "code",
   "execution_count": 78,
   "metadata": {
    "collapsed": false
   },
   "outputs": [
    {
     "name": "stdout",
     "output_type": "stream",
     "text": [
      "Logloss: 0.694700828091\n",
      "0.694763506654\n",
      "0.694914727404\n",
      "0.696756113421\n",
      "0.697200999946\n",
      "0.695413070214\n",
      "0.695137212918\n",
      "0.694162390565\n",
      "0.695230936429\n",
      "0.693007787975\n",
      "0.691519728511\n",
      "0.69458342587\n",
      "0.693676307389\n",
      "0.833333333333\n"
     ]
    }
   ],
   "source": [
    "score_sk_model(sgd, x_val.values, y_val, val_eras)"
   ]
  },
  {
   "cell_type": "markdown",
   "metadata": {},
   "source": [
    "## Keras Model"
   ]
  },
  {
   "cell_type": "code",
   "execution_count": 35,
   "metadata": {
    "collapsed": true
   },
   "outputs": [],
   "source": [
    "def score_keras_model(mod, x_val, y_val, val_eras):    \n",
    "    \n",
    "    print('Logloss: ' + str(log_loss(y_val.values, mod.predict(x_val.values))))\n",
    "    \n",
    "    val_logo = LeaveOneGroupOut()\n",
    "    scores = []\n",
    "    fail = 0\n",
    "    guessing = -log(.5)\n",
    "    \n",
    "    for _, index in val_logo.split(x_val.values, y_val.values, val_eras.values):\n",
    "        score = log_loss(y_val.iloc[index].values, mod.predict(x_val.values[index,:]))\n",
    "        print(score)\n",
    "        if(score > guessing):\n",
    "            fail += 1\n",
    "    print(fail / 12.0)"
   ]
  },
  {
   "cell_type": "code",
   "execution_count": 54,
   "metadata": {
    "collapsed": true
   },
   "outputs": [],
   "source": [
    "def compile_nn(input_dim):\n",
    "    \n",
    "    model = Sequential()    \n",
    "    model.add(Dense(512, input_dim=input_dim, activation='relu', init='normal', W_regularizer=l2(0.001)))    \n",
    "    model.add(Dropout(0.4))\n",
    "    \n",
    "    for i in range(0,4):        \n",
    "        model.add(Dense(512, activation='relu', init='normal', W_regularizer=l2(0.001)))\n",
    "        model.add(Dropout(0.4))\n",
    "    \n",
    "    model.add(Dense(1, activation='sigmoid'))\n",
    "\n",
    "    model.compile(loss='binary_crossentropy',\n",
    "                  optimizer='rmsprop',\n",
    "                  metrics=['accuracy'])\n",
    "    \n",
    "    return model\n",
    "\n",
    "nn = compile_nn(x_train.shape[1])"
   ]
  },
  {
   "cell_type": "code",
   "execution_count": 79,
   "metadata": {
    "collapsed": false
   },
   "outputs": [
    {
     "name": "stdout",
     "output_type": "stream",
     "text": [
      "Train on 108405 samples, validate on 16686 samples\n",
      "Epoch 1/10\n",
      "14s - loss: 0.6934 - acc: 0.5040 - val_loss: 0.6935 - val_acc: 0.4982\n",
      "Epoch 2/10\n",
      "14s - loss: 0.6934 - acc: 0.5041 - val_loss: 0.6935 - val_acc: 0.4982\n",
      "Epoch 3/10\n",
      "14s - loss: 0.6934 - acc: 0.5041 - val_loss: 0.6935 - val_acc: 0.4982\n",
      "Epoch 4/10\n",
      "14s - loss: 0.6934 - acc: 0.5041 - val_loss: 0.6934 - val_acc: 0.4982\n",
      "Epoch 5/10\n",
      "14s - loss: 0.6934 - acc: 0.5035 - val_loss: 0.6935 - val_acc: 0.4982\n",
      "Epoch 6/10\n",
      "14s - loss: 0.6934 - acc: 0.5036 - val_loss: 0.6935 - val_acc: 0.4982\n",
      "Epoch 7/10\n",
      "14s - loss: 0.6934 - acc: 0.5040 - val_loss: 0.6935 - val_acc: 0.4982\n",
      "Epoch 8/10\n",
      "14s - loss: 0.6934 - acc: 0.5031 - val_loss: 0.6935 - val_acc: 0.4982\n",
      "Epoch 9/10\n",
      "14s - loss: 0.6934 - acc: 0.5038 - val_loss: 0.6935 - val_acc: 0.4982\n",
      "Epoch 10/10\n",
      "14s - loss: 0.6934 - acc: 0.5036 - val_loss: 0.6935 - val_acc: 0.4982\n"
     ]
    },
    {
     "data": {
      "text/plain": [
       "<keras.callbacks.History at 0x2b45c4f3a850>"
      ]
     },
     "execution_count": 79,
     "metadata": {},
     "output_type": "execute_result"
    }
   ],
   "source": [
    "nn.fit(x_train.values, y_train.values, validation_data=(x_val.values, y_val.values),\n",
    "           nb_epoch=10, batch_size=500, verbose=2)"
   ]
  },
  {
   "cell_type": "code",
   "execution_count": 53,
   "metadata": {
    "collapsed": false
   },
   "outputs": [
    {
     "name": "stdout",
     "output_type": "stream",
     "text": [
      "Logloss: 0.693223366556\n",
      "0.693122177049\n",
      "0.693196973545\n",
      "0.692975956408\n",
      "0.693058342165\n",
      "0.693136847739\n",
      "0.692947238747\n",
      "0.693346140927\n",
      "0.693254197692\n",
      "0.693596618931\n",
      "0.693635535614\n",
      "0.693149273616\n",
      "0.693251757821\n",
      "0.583333333333\n"
     ]
    }
   ],
   "source": [
    "score_keras_model(nn, x_val, y_val, val_eras)"
   ]
  },
  {
   "cell_type": "markdown",
   "metadata": {},
   "source": [
    "## Voting Ensemble between models"
   ]
  },
  {
   "cell_type": "code",
   "execution_count": 93,
   "metadata": {
    "collapsed": false
   },
   "outputs": [],
   "source": [
    "def pick_extreme(row):\n",
    "    \n",
    "    #print(row[0])\n",
    "    \n",
    "    max_vote = np.max(row)\n",
    "    min_vote = np.min(row)\n",
    "    \n",
    "    vote = 0.0\n",
    "    \n",
    "    if((max_vote >= .5) and (min_vote >= .5)):\n",
    "        vote = max_vote\n",
    "        \n",
    "    elif((max_vote <= .5) and (min_vote <= .5)):\n",
    "        vote = min_vote\n",
    "        \n",
    "    else:\n",
    "        vote = np.mean\n",
    "        \n",
    "    return vote"
   ]
  },
  {
   "cell_type": "code",
   "execution_count": 94,
   "metadata": {
    "collapsed": false
   },
   "outputs": [
    {
     "data": {
      "text/html": [
       "<div>\n",
       "<table border=\"1\" class=\"dataframe\">\n",
       "  <thead>\n",
       "    <tr style=\"text-align: right;\">\n",
       "      <th></th>\n",
       "      <th>rf_1</th>\n",
       "      <th>rf_2</th>\n",
       "      <th>target</th>\n",
       "    </tr>\n",
       "  </thead>\n",
       "  <tbody>\n",
       "    <tr>\n",
       "      <th>count</th>\n",
       "      <td>16686.000000</td>\n",
       "      <td>16686.000000</td>\n",
       "      <td>16686.000000</td>\n",
       "    </tr>\n",
       "    <tr>\n",
       "      <th>mean</th>\n",
       "      <td>0.504675</td>\n",
       "      <td>0.504718</td>\n",
       "      <td>0.498202</td>\n",
       "    </tr>\n",
       "    <tr>\n",
       "      <th>std</th>\n",
       "      <td>0.016110</td>\n",
       "      <td>0.019327</td>\n",
       "      <td>0.500012</td>\n",
       "    </tr>\n",
       "    <tr>\n",
       "      <th>min</th>\n",
       "      <td>0.321381</td>\n",
       "      <td>0.405391</td>\n",
       "      <td>0.000000</td>\n",
       "    </tr>\n",
       "    <tr>\n",
       "      <th>25%</th>\n",
       "      <td>0.495364</td>\n",
       "      <td>0.495181</td>\n",
       "      <td>0.000000</td>\n",
       "    </tr>\n",
       "    <tr>\n",
       "      <th>50%</th>\n",
       "      <td>0.505039</td>\n",
       "      <td>0.508478</td>\n",
       "      <td>0.000000</td>\n",
       "    </tr>\n",
       "    <tr>\n",
       "      <th>75%</th>\n",
       "      <td>0.515639</td>\n",
       "      <td>0.517689</td>\n",
       "      <td>1.000000</td>\n",
       "    </tr>\n",
       "    <tr>\n",
       "      <th>max</th>\n",
       "      <td>0.618494</td>\n",
       "      <td>0.560419</td>\n",
       "      <td>1.000000</td>\n",
       "    </tr>\n",
       "  </tbody>\n",
       "</table>\n",
       "</div>"
      ],
      "text/plain": [
       "               rf_1          rf_2        target\n",
       "count  16686.000000  16686.000000  16686.000000\n",
       "mean       0.504675      0.504718      0.498202\n",
       "std        0.016110      0.019327      0.500012\n",
       "min        0.321381      0.405391      0.000000\n",
       "25%        0.495364      0.495181      0.000000\n",
       "50%        0.505039      0.508478      0.000000\n",
       "75%        0.515639      0.517689      1.000000\n",
       "max        0.618494      0.560419      1.000000"
      ]
     },
     "execution_count": 94,
     "metadata": {},
     "output_type": "execute_result"
    }
   ],
   "source": [
    "# must switch to validation for scoring\n",
    "rf_1_preds = pd.Series(rf_1.predict_proba(x_val.values)[:,1], index=y_val.index)\n",
    "#rf_2_preds = pd.Series(rf_2.predict_proba(x_val_pca)[:,1], index=y_val.index)\n",
    "nn_preds = pd.Series(nn.predict_proba(x_val.values)[:,0], index=y_val.index)\n",
    "\n",
    "ens = pd.concat([rf_1_preds, nn_preds], axis=1)\n",
    "ens.columns = ['rf_1', 'nn']\n",
    "\n",
    "vote = ens.apply(func=np.mean, axis=1)\n",
    "#vote = ens.mean()\n",
    "\n",
    "ens['vote'] = vote\n",
    "ens['target'] = y_val\n",
    "ens.describe()"
   ]
  },
  {
   "cell_type": "code",
   "execution_count": 95,
   "metadata": {
    "collapsed": false
   },
   "outputs": [
    {
     "data": {
      "text/html": [
       "<div>\n",
       "<table border=\"1\" class=\"dataframe\">\n",
       "  <thead>\n",
       "    <tr style=\"text-align: right;\">\n",
       "      <th></th>\n",
       "      <th>rf_1</th>\n",
       "      <th>rf_2</th>\n",
       "      <th>vote</th>\n",
       "      <th>target</th>\n",
       "    </tr>\n",
       "    <tr>\n",
       "      <th>id</th>\n",
       "      <th></th>\n",
       "      <th></th>\n",
       "      <th></th>\n",
       "      <th></th>\n",
       "    </tr>\n",
       "  </thead>\n",
       "  <tbody>\n",
       "    <tr>\n",
       "      <th>535632</th>\n",
       "      <td>0.509730</td>\n",
       "      <td>0.501092</td>\n",
       "      <td>0.50973</td>\n",
       "      <td>1.0</td>\n",
       "    </tr>\n",
       "    <tr>\n",
       "      <th>526056</th>\n",
       "      <td>0.492063</td>\n",
       "      <td>0.498484</td>\n",
       "      <td>0.492063</td>\n",
       "      <td>1.0</td>\n",
       "    </tr>\n",
       "    <tr>\n",
       "      <th>621500</th>\n",
       "      <td>0.505847</td>\n",
       "      <td>0.509371</td>\n",
       "      <td>0.509371</td>\n",
       "      <td>0.0</td>\n",
       "    </tr>\n",
       "    <tr>\n",
       "      <th>561590</th>\n",
       "      <td>0.482536</td>\n",
       "      <td>0.485528</td>\n",
       "      <td>0.482536</td>\n",
       "      <td>1.0</td>\n",
       "    </tr>\n",
       "    <tr>\n",
       "      <th>523587</th>\n",
       "      <td>0.515976</td>\n",
       "      <td>0.500454</td>\n",
       "      <td>0.515976</td>\n",
       "      <td>1.0</td>\n",
       "    </tr>\n",
       "  </tbody>\n",
       "</table>\n",
       "</div>"
      ],
      "text/plain": [
       "            rf_1      rf_2      vote  target\n",
       "id                                          \n",
       "535632  0.509730  0.501092   0.50973     1.0\n",
       "526056  0.492063  0.498484  0.492063     1.0\n",
       "621500  0.505847  0.509371  0.509371     0.0\n",
       "561590  0.482536  0.485528  0.482536     1.0\n",
       "523587  0.515976  0.500454  0.515976     1.0"
      ]
     },
     "execution_count": 95,
     "metadata": {},
     "output_type": "execute_result"
    }
   ],
   "source": [
    "ens.head()"
   ]
  },
  {
   "cell_type": "code",
   "execution_count": 96,
   "metadata": {
    "collapsed": false
   },
   "outputs": [
    {
     "ename": "TypeError",
     "evalue": "float() argument must be a string or a number",
     "output_type": "error",
     "traceback": [
      "\u001b[0;31m---------------------------------------------------------------------------\u001b[0m",
      "\u001b[0;31mTypeError\u001b[0m                                 Traceback (most recent call last)",
      "\u001b[0;32m<ipython-input-96-e1c8c7dc6662>\u001b[0m in \u001b[0;36m<module>\u001b[0;34m()\u001b[0m\n\u001b[1;32m     13\u001b[0m     \u001b[0;32mprint\u001b[0m\u001b[0;34m(\u001b[0m\u001b[0mfail\u001b[0m \u001b[0;34m/\u001b[0m \u001b[0;36m12.0\u001b[0m\u001b[0;34m)\u001b[0m\u001b[0;34m\u001b[0m\u001b[0m\n\u001b[1;32m     14\u001b[0m \u001b[0;34m\u001b[0m\u001b[0m\n\u001b[0;32m---> 15\u001b[0;31m \u001b[0mscore_ensemble\u001b[0m\u001b[0;34m(\u001b[0m\u001b[0mens\u001b[0m\u001b[0;34m,\u001b[0m \u001b[0mval_eras\u001b[0m\u001b[0;34m)\u001b[0m\u001b[0;34m\u001b[0m\u001b[0m\n\u001b[0m",
      "\u001b[0;32m<ipython-input-96-e1c8c7dc6662>\u001b[0m in \u001b[0;36mscore_ensemble\u001b[0;34m(ens, val_eras)\u001b[0m\n\u001b[1;32m      1\u001b[0m \u001b[0;32mdef\u001b[0m \u001b[0mscore_ensemble\u001b[0m\u001b[0;34m(\u001b[0m\u001b[0mens\u001b[0m\u001b[0;34m,\u001b[0m \u001b[0mval_eras\u001b[0m\u001b[0;34m)\u001b[0m\u001b[0;34m:\u001b[0m\u001b[0;34m\u001b[0m\u001b[0m\n\u001b[0;32m----> 2\u001b[0;31m     \u001b[0;32mprint\u001b[0m\u001b[0;34m(\u001b[0m\u001b[0;34m'Logloss: '\u001b[0m \u001b[0;34m+\u001b[0m \u001b[0mstr\u001b[0m\u001b[0;34m(\u001b[0m\u001b[0mlog_loss\u001b[0m\u001b[0;34m(\u001b[0m\u001b[0mens\u001b[0m\u001b[0;34m[\u001b[0m\u001b[0;34m'target'\u001b[0m\u001b[0;34m]\u001b[0m\u001b[0;34m.\u001b[0m\u001b[0mvalues\u001b[0m\u001b[0;34m,\u001b[0m \u001b[0mens\u001b[0m\u001b[0;34m[\u001b[0m\u001b[0;34m'vote'\u001b[0m\u001b[0;34m]\u001b[0m\u001b[0;34m.\u001b[0m\u001b[0mvalues\u001b[0m\u001b[0;34m)\u001b[0m\u001b[0;34m)\u001b[0m\u001b[0;34m)\u001b[0m\u001b[0;34m\u001b[0m\u001b[0m\n\u001b[0m\u001b[1;32m      3\u001b[0m     \u001b[0mval_logo\u001b[0m \u001b[0;34m=\u001b[0m \u001b[0mLeaveOneGroupOut\u001b[0m\u001b[0;34m(\u001b[0m\u001b[0;34m)\u001b[0m\u001b[0;34m\u001b[0m\u001b[0m\n\u001b[1;32m      4\u001b[0m     \u001b[0mscores\u001b[0m \u001b[0;34m=\u001b[0m \u001b[0;34m[\u001b[0m\u001b[0;34m]\u001b[0m\u001b[0;34m\u001b[0m\u001b[0m\n\u001b[1;32m      5\u001b[0m     \u001b[0mfail\u001b[0m \u001b[0;34m=\u001b[0m \u001b[0;36m0\u001b[0m\u001b[0;34m\u001b[0m\u001b[0m\n",
      "\u001b[0;32m/usr/nic/apps/python_data_analytics/2.7.12/lib/python2.7/site-packages/sklearn/metrics/classification.pyc\u001b[0m in \u001b[0;36mlog_loss\u001b[0;34m(y_true, y_pred, eps, normalize, sample_weight, labels)\u001b[0m\n\u001b[1;32m   1606\u001b[0m     \u001b[0mThe\u001b[0m \u001b[0mlogarithm\u001b[0m \u001b[0mused\u001b[0m \u001b[0;32mis\u001b[0m \u001b[0mthe\u001b[0m \u001b[0mnatural\u001b[0m \u001b[0mlogarithm\u001b[0m \u001b[0;34m(\u001b[0m\u001b[0mbase\u001b[0m\u001b[0;34m-\u001b[0m\u001b[0me\u001b[0m\u001b[0;34m)\u001b[0m\u001b[0;34m.\u001b[0m\u001b[0;34m\u001b[0m\u001b[0m\n\u001b[1;32m   1607\u001b[0m     \"\"\"\n\u001b[0;32m-> 1608\u001b[0;31m     \u001b[0my_pred\u001b[0m \u001b[0;34m=\u001b[0m \u001b[0mcheck_array\u001b[0m\u001b[0;34m(\u001b[0m\u001b[0my_pred\u001b[0m\u001b[0;34m,\u001b[0m \u001b[0mensure_2d\u001b[0m\u001b[0;34m=\u001b[0m\u001b[0mFalse\u001b[0m\u001b[0;34m)\u001b[0m\u001b[0;34m\u001b[0m\u001b[0m\n\u001b[0m\u001b[1;32m   1609\u001b[0m     \u001b[0mcheck_consistent_length\u001b[0m\u001b[0;34m(\u001b[0m\u001b[0my_pred\u001b[0m\u001b[0;34m,\u001b[0m \u001b[0my_true\u001b[0m\u001b[0;34m)\u001b[0m\u001b[0;34m\u001b[0m\u001b[0m\n\u001b[1;32m   1610\u001b[0m \u001b[0;34m\u001b[0m\u001b[0m\n",
      "\u001b[0;32m/usr/nic/apps/python_data_analytics/2.7.12/lib/python2.7/site-packages/sklearn/utils/validation.pyc\u001b[0m in \u001b[0;36mcheck_array\u001b[0;34m(array, accept_sparse, dtype, order, copy, force_all_finite, ensure_2d, allow_nd, ensure_min_samples, ensure_min_features, warn_on_dtype, estimator)\u001b[0m\n\u001b[1;32m    380\u001b[0m                                       force_all_finite)\n\u001b[1;32m    381\u001b[0m     \u001b[0;32melse\u001b[0m\u001b[0;34m:\u001b[0m\u001b[0;34m\u001b[0m\u001b[0m\n\u001b[0;32m--> 382\u001b[0;31m         \u001b[0marray\u001b[0m \u001b[0;34m=\u001b[0m \u001b[0mnp\u001b[0m\u001b[0;34m.\u001b[0m\u001b[0marray\u001b[0m\u001b[0;34m(\u001b[0m\u001b[0marray\u001b[0m\u001b[0;34m,\u001b[0m \u001b[0mdtype\u001b[0m\u001b[0;34m=\u001b[0m\u001b[0mdtype\u001b[0m\u001b[0;34m,\u001b[0m \u001b[0morder\u001b[0m\u001b[0;34m=\u001b[0m\u001b[0morder\u001b[0m\u001b[0;34m,\u001b[0m \u001b[0mcopy\u001b[0m\u001b[0;34m=\u001b[0m\u001b[0mcopy\u001b[0m\u001b[0;34m)\u001b[0m\u001b[0;34m\u001b[0m\u001b[0m\n\u001b[0m\u001b[1;32m    383\u001b[0m \u001b[0;34m\u001b[0m\u001b[0m\n\u001b[1;32m    384\u001b[0m         \u001b[0;32mif\u001b[0m \u001b[0mensure_2d\u001b[0m\u001b[0;34m:\u001b[0m\u001b[0;34m\u001b[0m\u001b[0m\n",
      "\u001b[0;31mTypeError\u001b[0m: float() argument must be a string or a number"
     ]
    }
   ],
   "source": [
    "def score_ensemble(ens, val_eras):\n",
    "    print('Logloss: ' + str(log_loss(ens['target'].values, ens['vote'].values)))\n",
    "    val_logo = LeaveOneGroupOut()\n",
    "    scores = []\n",
    "    fail = 0\n",
    "    guessing = -log(.5)\n",
    "    for _, index in val_logo.split(ens['vote'].values, ens['target'].values, val_eras.values):\n",
    "        score = log_loss(ens['target'].iloc[index].values, ens['vote'].iloc[index].values)\n",
    "        print(score)\n",
    "        if(score > guessing):\n",
    "            fail += 1\n",
    "                \n",
    "    print(fail / 12.0)\n",
    "                \n",
    "score_ensemble(ens, val_eras)"
   ]
  },
  {
   "cell_type": "markdown",
   "metadata": {},
   "source": [
    "## Submission"
   ]
  },
  {
   "cell_type": "code",
   "execution_count": 39,
   "metadata": {
    "collapsed": false
   },
   "outputs": [],
   "source": [
    "to_pred = pd.concat([x_val,test,live])\n",
    "\n",
    "# SK Learn model\n",
    "#pred_pca = pca.transform(to_pred.values)\n",
    "#rf_1_preds = pd.Series(rf_1.predict_proba(to_pred.values)[:,1])\n",
    "#rf_2_preds = pd.Series(rf_2.predict_proba(pred_pca)[:,1])\n",
    "\n",
    "#Keras model\n",
    "nn_preds = pd.Series(nn.predict(to_pred.values)[:,0])\n",
    "\n",
    "#to_vote = pd.concat([rf_1_preds, rf_2_preds], axis=1)\n",
    "\n",
    "# Ensemble Tree\n",
    "#ens_preds = pd.Series(tree.predict_proba(to_vote.values)[:,1])\n",
    "#ens_preds = to_vote.mean(axis=1)\n",
    "ens_preds = nn_preds"
   ]
  },
  {
   "cell_type": "code",
   "execution_count": 40,
   "metadata": {
    "collapsed": false
   },
   "outputs": [
    {
     "data": {
      "text/plain": [
       "count    45630.000000\n",
       "mean         0.503124\n",
       "std          0.004284\n",
       "min          0.498657\n",
       "25%          0.499918\n",
       "50%          0.502135\n",
       "75%          0.505005\n",
       "max          0.534094\n",
       "dtype: float64"
      ]
     },
     "execution_count": 40,
     "metadata": {},
     "output_type": "execute_result"
    }
   ],
   "source": [
    "ens_preds.describe()"
   ]
  },
  {
   "cell_type": "code",
   "execution_count": 33,
   "metadata": {
    "collapsed": false,
    "deletable": true,
    "editable": true
   },
   "outputs": [
    {
     "data": {
      "text/html": [
       "<div>\n",
       "<table border=\"1\" class=\"dataframe\">\n",
       "  <thead>\n",
       "    <tr style=\"text-align: right;\">\n",
       "      <th></th>\n",
       "      <th>id</th>\n",
       "      <th>probability</th>\n",
       "    </tr>\n",
       "  </thead>\n",
       "  <tbody>\n",
       "    <tr>\n",
       "      <th>0</th>\n",
       "      <td>96144</td>\n",
       "      <td>0.517328</td>\n",
       "    </tr>\n",
       "    <tr>\n",
       "      <th>1</th>\n",
       "      <td>17982</td>\n",
       "      <td>0.523370</td>\n",
       "    </tr>\n",
       "    <tr>\n",
       "      <th>2</th>\n",
       "      <td>96161</td>\n",
       "      <td>0.486145</td>\n",
       "    </tr>\n",
       "    <tr>\n",
       "      <th>3</th>\n",
       "      <td>53895</td>\n",
       "      <td>0.494751</td>\n",
       "    </tr>\n",
       "    <tr>\n",
       "      <th>4</th>\n",
       "      <td>7267</td>\n",
       "      <td>0.510167</td>\n",
       "    </tr>\n",
       "  </tbody>\n",
       "</table>\n",
       "</div>"
      ],
      "text/plain": [
       "      id  probability\n",
       "0  96144     0.517328\n",
       "1  17982     0.523370\n",
       "2  96161     0.486145\n",
       "3  53895     0.494751\n",
       "4   7267     0.510167"
      ]
     },
     "execution_count": 33,
     "metadata": {},
     "output_type": "execute_result"
    }
   ],
   "source": [
    "sub = pd.concat([pd.Series(to_pred.index), pd.Series(ens_preds)], axis=1)\n",
    "sub.columns = ['id', 'probability']\n",
    "sub.head()"
   ]
  },
  {
   "cell_type": "code",
   "execution_count": 34,
   "metadata": {
    "collapsed": true,
    "deletable": true,
    "editable": true
   },
   "outputs": [],
   "source": [
    "sub.to_csv('sub_62_1_rf.csv', index=False)"
   ]
  },
  {
   "cell_type": "code",
   "execution_count": null,
   "metadata": {
    "collapsed": true,
    "deletable": true,
    "editable": true
   },
   "outputs": [],
   "source": []
  }
 ],
 "metadata": {
  "kernelspec": {
   "display_name": "Python 2",
   "language": "python",
   "name": "python2"
  },
  "language_info": {
   "codemirror_mode": {
    "name": "ipython",
    "version": 2
   },
   "file_extension": ".py",
   "mimetype": "text/x-python",
   "name": "python",
   "nbconvert_exporter": "python",
   "pygments_lexer": "ipython2",
   "version": "2.7.12"
  }
 },
 "nbformat": 4,
 "nbformat_minor": 2
}
