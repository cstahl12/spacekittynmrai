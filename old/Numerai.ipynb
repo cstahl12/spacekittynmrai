{
 "cells": [
  {
   "cell_type": "markdown",
   "metadata": {},
   "source": [
    "# Numerai\n",
    "Tournament 77, 16th Oct 2017"
   ]
  },
  {
   "cell_type": "code",
   "execution_count": 3,
   "metadata": {},
   "outputs": [
    {
     "name": "stdout",
     "output_type": "stream",
     "text": [
      "Archive:  numerai_datasets.zip\n",
      "  inflating: numerai_training_data.csv  \n",
      "  inflating: example_model.py        \n",
      "  inflating: example_predictions.csv  \n",
      "  inflating: numerai_tournament_data.csv  \n",
      "  inflating: example_model.r         \n"
     ]
    }
   ],
   "source": [
    "!unzip numerai_datasets.zip"
   ]
  },
  {
   "cell_type": "code",
   "execution_count": 5,
   "metadata": {
    "collapsed": true
   },
   "outputs": [],
   "source": [
    "!rm numerai_datasets.zip"
   ]
  },
  {
   "cell_type": "code",
   "execution_count": 12,
   "metadata": {},
   "outputs": [
    {
     "name": "stdout",
     "output_type": "stream",
     "text": [
      "Loading data...\n",
      "Training...\n",
      "Predicting...\n",
      "Writing predictions to predictions.csv\n",
      "0.691666894301\n"
     ]
    }
   ],
   "source": [
    "import pandas as pd\n",
    "import numpy as np\n",
    "from sklearn import metrics, preprocessing, linear_model\n",
    "\n",
    "\n",
    "def numerai_sample():\n",
    "    # Set seed for reproducibility\n",
    "    np.random.seed(0)\n",
    "\n",
    "    print(\"Loading data...\")\n",
    "    # Load the data from the CSV files\n",
    "    training_data = pd.read_csv('numerai_training_data.csv', header=0)\n",
    "    prediction_data = pd.read_csv('numerai_tournament_data.csv', header=0)\n",
    "\n",
    "\n",
    "    # Transform the loaded CSV data into numpy arrays\n",
    "    features = [f for f in list(training_data) if \"feature\" in f]\n",
    "    X = training_data[features]\n",
    "    Y = training_data[\"target\"]\n",
    "    x_prediction = prediction_data[features]\n",
    "    ids = prediction_data[\"id\"]\n",
    "\n",
    "    # This is your model that will learn to predict\n",
    "    model = linear_model.LogisticRegression(n_jobs=-1)\n",
    "\n",
    "    print(\"Training...\")\n",
    "    # Your model is trained on the training_data\n",
    "    model.fit(X, Y)\n",
    "\n",
    "    print(\"Predicting...\")\n",
    "    # Your trained model is now used to make predictions on the numerai_tournament_data\n",
    "    # The model returns two columns: [probability of 0, probability of 1]\n",
    "    # We are just interested in the probability that the target is 1.\n",
    "    y_prediction = model.predict_proba(x_prediction)\n",
    "    results = y_prediction[:, 1]\n",
    "    results_df = pd.DataFrame(data={'probability':results})\n",
    "    joined = pd.DataFrame(ids).join(results_df)\n",
    "\n",
    "    print(\"Writing predictions to predictions.csv\")\n",
    "    # Save the predictions out to a CSV file\n",
    "    joined.to_csv(\"predictions.csv\", index=False)\n",
    "    # Now you can upload these predictions on numer.ai\n",
    "    \n",
    "    return(X,Y,x_prediction,ids,model,joined)\n",
    "\n",
    "X,Y,x_prediction,ids,model, results = numerai_sample()\n",
    "\n",
    "train_pred = model.predict_proba(X)\n",
    "print(metrics.log_loss(Y,train_pred))"
   ]
  },
  {
   "cell_type": "markdown",
   "metadata": {},
   "source": [
    "So Logistic Regression model is just better than -ln(0.5) = 0.6931. That's the number to beat\n",
    "## Model 1. Dense NN"
   ]
  },
  {
   "cell_type": "code",
   "execution_count": 66,
   "metadata": {
    "collapsed": true
   },
   "outputs": [],
   "source": [
    "#First create a validation set, 15% of dataset\n",
    "from sklearn.model_selection import train_test_split\n",
    "X_train, X_test, y_train, y_test = train_test_split(\n",
    "    X, Y, test_size=0.40, random_state=42)"
   ]
  },
  {
   "cell_type": "code",
   "execution_count": 67,
   "metadata": {
    "collapsed": true
   },
   "outputs": [],
   "source": [
    "X_trn = X_train.values\n",
    "y_trn = y_train.values\n",
    "X_tst = X_test.values\n",
    "y_tst = y_test.values"
   ]
  },
  {
   "cell_type": "code",
   "execution_count": 68,
   "metadata": {},
   "outputs": [
    {
     "data": {
      "text/plain": [
       "(321427, 50)"
      ]
     },
     "execution_count": 68,
     "metadata": {},
     "output_type": "execute_result"
    }
   ],
   "source": [
    "X_train.shape"
   ]
  },
  {
   "cell_type": "code",
   "execution_count": 85,
   "metadata": {},
   "outputs": [],
   "source": [
    "from keras.models import Sequential\n",
    "from keras.layers import Dense, Activation, Dropout, BatchNormalization\n",
    "\n",
    "nn = Sequential([\n",
    "    BatchNormalization(input_shape=(50,)),\n",
    "    Dense(100,activation='tanh'),\n",
    "    #Dropout(0.1),\n",
    "    Dense(50,activation='tanh'),\n",
    "    #Dropout(0.1),\n",
    "    #Dropout(0.2),\n",
    "    Dense(1,activation='sigmoid')\n",
    "])\n",
    "\n",
    "nn.compile(loss='binary_crossentropy', optimizer='adam', metrics=['accuracy'])"
   ]
  },
  {
   "cell_type": "code",
   "execution_count": 86,
   "metadata": {},
   "outputs": [
    {
     "name": "stdout",
     "output_type": "stream",
     "text": [
      "_________________________________________________________________\n",
      "Layer (type)                 Output Shape              Param #   \n",
      "=================================================================\n",
      "batch_normalization_2 (Batch (None, 50)                200       \n",
      "_________________________________________________________________\n",
      "dense_48 (Dense)             (None, 100)               5100      \n",
      "_________________________________________________________________\n",
      "dense_49 (Dense)             (None, 50)                5050      \n",
      "_________________________________________________________________\n",
      "dense_50 (Dense)             (None, 1)                 51        \n",
      "=================================================================\n",
      "Total params: 10,401\n",
      "Trainable params: 10,301\n",
      "Non-trainable params: 100\n",
      "_________________________________________________________________\n"
     ]
    }
   ],
   "source": [
    "nn.summary()"
   ]
  },
  {
   "cell_type": "code",
   "execution_count": 87,
   "metadata": {},
   "outputs": [
    {
     "name": "stdout",
     "output_type": "stream",
     "text": [
      "Train on 321427 samples, validate on 214286 samples\n",
      "Epoch 1/1\n",
      "321427/321427 [==============================] - 12s - loss: 0.6955 - acc: 0.5115 - val_loss: 0.6935 - val_acc: 0.5137\n"
     ]
    },
    {
     "data": {
      "text/plain": [
       "<keras.callbacks.History at 0x7faa4365e2e8>"
      ]
     },
     "execution_count": 87,
     "metadata": {},
     "output_type": "execute_result"
    }
   ],
   "source": [
    "# nn.optimizer.lr = 0.01\n",
    "nn.fit(X_trn, y_trn, validation_data=(X_tst,y_tst), epochs=1, batch_size=64)"
   ]
  },
  {
   "cell_type": "code",
   "execution_count": null,
   "metadata": {},
   "outputs": [
    {
     "name": "stdout",
     "output_type": "stream",
     "text": [
      "Train on 321427 samples, validate on 214286 samples\n",
      "Epoch 1/20\n",
      "321427/321427 [==============================] - 12s - loss: 0.6904 - acc: 0.5298 - val_loss: 0.6930 - val_acc: 0.5183\n",
      "Epoch 2/20\n",
      "321427/321427 [==============================] - 12s - loss: 0.6900 - acc: 0.5316 - val_loss: 0.6928 - val_acc: 0.5190\n",
      "Epoch 3/20\n",
      "321427/321427 [==============================] - 12s - loss: 0.6895 - acc: 0.5339 - val_loss: 0.6935 - val_acc: 0.5176\n",
      "Epoch 4/20\n",
      "321427/321427 [==============================] - 12s - loss: 0.6893 - acc: 0.5357 - val_loss: 0.6936 - val_acc: 0.5170\n",
      "Epoch 5/20\n",
      "321427/321427 [==============================] - 12s - loss: 0.6890 - acc: 0.5365 - val_loss: 0.6935 - val_acc: 0.5164\n",
      "Epoch 6/20\n",
      "321427/321427 [==============================] - 12s - loss: 0.6886 - acc: 0.5392 - val_loss: 0.6934 - val_acc: 0.5184\n",
      "Epoch 7/20\n",
      "321427/321427 [==============================] - 11s - loss: 0.6882 - acc: 0.5400 - val_loss: 0.6948 - val_acc: 0.5178\n",
      "Epoch 8/20\n",
      "321427/321427 [==============================] - 12s - loss: 0.6880 - acc: 0.5403 - val_loss: 0.6944 - val_acc: 0.5194\n",
      "Epoch 9/20\n",
      "321427/321427 [==============================] - 12s - loss: 0.6876 - acc: 0.5412 - val_loss: 0.6965 - val_acc: 0.5172\n",
      "Epoch 10/20\n",
      "321427/321427 [==============================] - 11s - loss: 0.6872 - acc: 0.5433 - val_loss: 0.6946 - val_acc: 0.5183\n",
      "Epoch 11/20\n",
      "321427/321427 [==============================] - 12s - loss: 0.6871 - acc: 0.5439 - val_loss: 0.6949 - val_acc: 0.5178\n",
      "Epoch 12/20\n",
      "321427/321427 [==============================] - 12s - loss: 0.6866 - acc: 0.5460 - val_loss: 0.6954 - val_acc: 0.5141\n",
      "Epoch 13/20\n",
      "302400/321427 [===========================>..] - ETA: 0s - loss: 0.6865 - acc: 0.5462"
     ]
    }
   ],
   "source": [
    "nn.optimizer.lr = 0.1\n",
    "nn.fit(X_trn, y_trn, validation_data=(X_tst,y_tst), epochs=20, batch_size=64)"
   ]
  },
  {
   "cell_type": "code",
   "execution_count": null,
   "metadata": {
    "collapsed": true
   },
   "outputs": [],
   "source": []
  }
 ],
 "metadata": {
  "kernelspec": {
   "display_name": "Python 3",
   "language": "python",
   "name": "python3"
  },
  "language_info": {
   "codemirror_mode": {
    "name": "ipython",
    "version": 3
   },
   "file_extension": ".py",
   "mimetype": "text/x-python",
   "name": "python",
   "nbconvert_exporter": "python",
   "pygments_lexer": "ipython3",
   "version": "3.5.3"
  }
 },
 "nbformat": 4,
 "nbformat_minor": 2
}
